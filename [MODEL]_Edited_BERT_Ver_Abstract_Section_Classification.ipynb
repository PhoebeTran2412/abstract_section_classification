{
  "nbformat": 4,
  "nbformat_minor": 0,
  "metadata": {
    "accelerator": "GPU",
    "colab": {
      "name": "[MODEL] Edited_BERT_Ver_Abstract_Section_Classification.ipynb",
      "provenance": [],
      "collapsed_sections": [
        "SvrNJ925bN6Z",
        "Pc868KD_dw_m",
        "EL-hClTzMPx0",
        "cuJMVeqJfbhX",
        "iXhRZTKgfeNf"
      ],
      "machine_shape": "hm"
    },
    "kernelspec": {
      "display_name": "Python 3",
      "name": "python3"
    },
    "language_info": {
      "name": "python"
    }
  },
  "cells": [
    {
      "cell_type": "markdown",
      "metadata": {
        "id": "yAw5Ts80cvTE"
      },
      "source": [
        "This project is the replication of the inspiring project \"PubMed 200k RCT\" (https://arxiv.org/pdf/1710.06071.pdf)\n",
        "\n",
        "The purpose of this project is to build a NLP model to make the abstract of medical research paper faster and easier to read.\n",
        "\n",
        "The dataset utilized in this project is available in: https://arxiv.org/abs/1710.06071 and can be downloaded from the author's GitHub - Mr. Franck Dernoncourt (https://github.com/Franck-Dernoncourt/pubmed-rct)"
      ]
    },
    {
      "cell_type": "markdown",
      "metadata": {
        "id": "KEZzQbjD4uJE"
      },
      "source": [
        "## I. IMPORT LIBRARIES AND ESSENTIAL FUNCTIONS"
      ]
    },
    {
      "cell_type": "code",
      "metadata": {
        "colab": {
          "base_uri": "https://localhost:8080/"
        },
        "id": "OkRzVluiG8_J",
        "outputId": "c57fe901-007c-4567-d568-6a70e7c457cf"
      },
      "source": [
        "# Mount Google drive locally\n",
        "from google.colab import drive\n",
        "drive.mount('/content/gdrive')"
      ],
      "execution_count": null,
      "outputs": [
        {
          "output_type": "stream",
          "name": "stdout",
          "text": [
            "Mounted at /content/gdrive\n"
          ]
        }
      ]
    },
    {
      "cell_type": "code",
      "metadata": {
        "id": "aw6eMT3pzR6M",
        "colab": {
          "base_uri": "https://localhost:8080/"
        },
        "outputId": "d2e122dd-228f-4651-ea65-432e766c0b39"
      },
      "source": [
        "import numpy as np\n",
        "import pandas as pd\n",
        "import tensorflow as tf\n",
        "import tensorflow_hub as hub\n",
        "from tensorflow.keras import layers\n",
        "from tensorflow.keras.layers import Dense\n",
        "from tensorflow.keras.layers.experimental.preprocessing import TextVectorization\n",
        "\n",
        "!pip install --quiet tensorflow-text\n",
        "!pip install tensorflow_text\n",
        "import tensorflow_text as text\n",
        "\n",
        "import os\n",
        "\n",
        "# Install Transformers library \n",
        "!pip install transformers\n",
        "!pip install bert-for-tf2\n",
        "\n",
        "import seaborn as sns\n",
        "import matplotlib.pyplot as plt\n",
        "\n",
        "plt.style.use('dark_background')"
      ],
      "execution_count": null,
      "outputs": [
        {
          "output_type": "stream",
          "name": "stdout",
          "text": [
            "\u001b[K     |████████████████████████████████| 4.4 MB 5.2 MB/s \n",
            "\u001b[?25hRequirement already satisfied: tensorflow_text in /usr/local/lib/python3.7/dist-packages (2.6.0)\n",
            "Requirement already satisfied: tensorflow-hub>=0.8.0 in /usr/local/lib/python3.7/dist-packages (from tensorflow_text) (0.12.0)\n",
            "Requirement already satisfied: tensorflow<2.7,>=2.6.0 in /usr/local/lib/python3.7/dist-packages (from tensorflow_text) (2.6.0)\n",
            "Requirement already satisfied: keras~=2.6 in /usr/local/lib/python3.7/dist-packages (from tensorflow<2.7,>=2.6.0->tensorflow_text) (2.6.0)\n",
            "Requirement already satisfied: wheel~=0.35 in /usr/local/lib/python3.7/dist-packages (from tensorflow<2.7,>=2.6.0->tensorflow_text) (0.37.0)\n",
            "Requirement already satisfied: protobuf>=3.9.2 in /usr/local/lib/python3.7/dist-packages (from tensorflow<2.7,>=2.6.0->tensorflow_text) (3.17.3)\n",
            "Requirement already satisfied: h5py~=3.1.0 in /usr/local/lib/python3.7/dist-packages (from tensorflow<2.7,>=2.6.0->tensorflow_text) (3.1.0)\n",
            "Requirement already satisfied: absl-py~=0.10 in /usr/local/lib/python3.7/dist-packages (from tensorflow<2.7,>=2.6.0->tensorflow_text) (0.12.0)\n",
            "Requirement already satisfied: keras-preprocessing~=1.1.2 in /usr/local/lib/python3.7/dist-packages (from tensorflow<2.7,>=2.6.0->tensorflow_text) (1.1.2)\n",
            "Requirement already satisfied: astunparse~=1.6.3 in /usr/local/lib/python3.7/dist-packages (from tensorflow<2.7,>=2.6.0->tensorflow_text) (1.6.3)\n",
            "Requirement already satisfied: flatbuffers~=1.12.0 in /usr/local/lib/python3.7/dist-packages (from tensorflow<2.7,>=2.6.0->tensorflow_text) (1.12)\n",
            "Requirement already satisfied: six~=1.15.0 in /usr/local/lib/python3.7/dist-packages (from tensorflow<2.7,>=2.6.0->tensorflow_text) (1.15.0)\n",
            "Requirement already satisfied: typing-extensions~=3.7.4 in /usr/local/lib/python3.7/dist-packages (from tensorflow<2.7,>=2.6.0->tensorflow_text) (3.7.4.3)\n",
            "Requirement already satisfied: gast==0.4.0 in /usr/local/lib/python3.7/dist-packages (from tensorflow<2.7,>=2.6.0->tensorflow_text) (0.4.0)\n",
            "Requirement already satisfied: tensorboard~=2.6 in /usr/local/lib/python3.7/dist-packages (from tensorflow<2.7,>=2.6.0->tensorflow_text) (2.6.0)\n",
            "Requirement already satisfied: clang~=5.0 in /usr/local/lib/python3.7/dist-packages (from tensorflow<2.7,>=2.6.0->tensorflow_text) (5.0)\n",
            "Requirement already satisfied: opt-einsum~=3.3.0 in /usr/local/lib/python3.7/dist-packages (from tensorflow<2.7,>=2.6.0->tensorflow_text) (3.3.0)\n",
            "Requirement already satisfied: grpcio<2.0,>=1.37.0 in /usr/local/lib/python3.7/dist-packages (from tensorflow<2.7,>=2.6.0->tensorflow_text) (1.41.0)\n",
            "Requirement already satisfied: numpy~=1.19.2 in /usr/local/lib/python3.7/dist-packages (from tensorflow<2.7,>=2.6.0->tensorflow_text) (1.19.5)\n",
            "Requirement already satisfied: wrapt~=1.12.1 in /usr/local/lib/python3.7/dist-packages (from tensorflow<2.7,>=2.6.0->tensorflow_text) (1.12.1)\n",
            "Requirement already satisfied: tensorflow-estimator~=2.6 in /usr/local/lib/python3.7/dist-packages (from tensorflow<2.7,>=2.6.0->tensorflow_text) (2.6.0)\n",
            "Requirement already satisfied: google-pasta~=0.2 in /usr/local/lib/python3.7/dist-packages (from tensorflow<2.7,>=2.6.0->tensorflow_text) (0.2.0)\n",
            "Requirement already satisfied: termcolor~=1.1.0 in /usr/local/lib/python3.7/dist-packages (from tensorflow<2.7,>=2.6.0->tensorflow_text) (1.1.0)\n",
            "Requirement already satisfied: cached-property in /usr/local/lib/python3.7/dist-packages (from h5py~=3.1.0->tensorflow<2.7,>=2.6.0->tensorflow_text) (1.5.2)\n",
            "Requirement already satisfied: tensorboard-data-server<0.7.0,>=0.6.0 in /usr/local/lib/python3.7/dist-packages (from tensorboard~=2.6->tensorflow<2.7,>=2.6.0->tensorflow_text) (0.6.1)\n",
            "Requirement already satisfied: setuptools>=41.0.0 in /usr/local/lib/python3.7/dist-packages (from tensorboard~=2.6->tensorflow<2.7,>=2.6.0->tensorflow_text) (57.4.0)\n",
            "Requirement already satisfied: markdown>=2.6.8 in /usr/local/lib/python3.7/dist-packages (from tensorboard~=2.6->tensorflow<2.7,>=2.6.0->tensorflow_text) (3.3.4)\n",
            "Requirement already satisfied: google-auth-oauthlib<0.5,>=0.4.1 in /usr/local/lib/python3.7/dist-packages (from tensorboard~=2.6->tensorflow<2.7,>=2.6.0->tensorflow_text) (0.4.6)\n",
            "Requirement already satisfied: google-auth<2,>=1.6.3 in /usr/local/lib/python3.7/dist-packages (from tensorboard~=2.6->tensorflow<2.7,>=2.6.0->tensorflow_text) (1.35.0)\n",
            "Requirement already satisfied: tensorboard-plugin-wit>=1.6.0 in /usr/local/lib/python3.7/dist-packages (from tensorboard~=2.6->tensorflow<2.7,>=2.6.0->tensorflow_text) (1.8.0)\n",
            "Requirement already satisfied: requests<3,>=2.21.0 in /usr/local/lib/python3.7/dist-packages (from tensorboard~=2.6->tensorflow<2.7,>=2.6.0->tensorflow_text) (2.23.0)\n",
            "Requirement already satisfied: werkzeug>=0.11.15 in /usr/local/lib/python3.7/dist-packages (from tensorboard~=2.6->tensorflow<2.7,>=2.6.0->tensorflow_text) (1.0.1)\n",
            "Requirement already satisfied: pyasn1-modules>=0.2.1 in /usr/local/lib/python3.7/dist-packages (from google-auth<2,>=1.6.3->tensorboard~=2.6->tensorflow<2.7,>=2.6.0->tensorflow_text) (0.2.8)\n",
            "Requirement already satisfied: cachetools<5.0,>=2.0.0 in /usr/local/lib/python3.7/dist-packages (from google-auth<2,>=1.6.3->tensorboard~=2.6->tensorflow<2.7,>=2.6.0->tensorflow_text) (4.2.4)\n",
            "Requirement already satisfied: rsa<5,>=3.1.4 in /usr/local/lib/python3.7/dist-packages (from google-auth<2,>=1.6.3->tensorboard~=2.6->tensorflow<2.7,>=2.6.0->tensorflow_text) (4.7.2)\n",
            "Requirement already satisfied: requests-oauthlib>=0.7.0 in /usr/local/lib/python3.7/dist-packages (from google-auth-oauthlib<0.5,>=0.4.1->tensorboard~=2.6->tensorflow<2.7,>=2.6.0->tensorflow_text) (1.3.0)\n",
            "Requirement already satisfied: importlib-metadata in /usr/local/lib/python3.7/dist-packages (from markdown>=2.6.8->tensorboard~=2.6->tensorflow<2.7,>=2.6.0->tensorflow_text) (4.8.1)\n",
            "Requirement already satisfied: pyasn1<0.5.0,>=0.4.6 in /usr/local/lib/python3.7/dist-packages (from pyasn1-modules>=0.2.1->google-auth<2,>=1.6.3->tensorboard~=2.6->tensorflow<2.7,>=2.6.0->tensorflow_text) (0.4.8)\n",
            "Requirement already satisfied: urllib3!=1.25.0,!=1.25.1,<1.26,>=1.21.1 in /usr/local/lib/python3.7/dist-packages (from requests<3,>=2.21.0->tensorboard~=2.6->tensorflow<2.7,>=2.6.0->tensorflow_text) (1.24.3)\n",
            "Requirement already satisfied: idna<3,>=2.5 in /usr/local/lib/python3.7/dist-packages (from requests<3,>=2.21.0->tensorboard~=2.6->tensorflow<2.7,>=2.6.0->tensorflow_text) (2.10)\n",
            "Requirement already satisfied: certifi>=2017.4.17 in /usr/local/lib/python3.7/dist-packages (from requests<3,>=2.21.0->tensorboard~=2.6->tensorflow<2.7,>=2.6.0->tensorflow_text) (2021.5.30)\n",
            "Requirement already satisfied: chardet<4,>=3.0.2 in /usr/local/lib/python3.7/dist-packages (from requests<3,>=2.21.0->tensorboard~=2.6->tensorflow<2.7,>=2.6.0->tensorflow_text) (3.0.4)\n",
            "Requirement already satisfied: oauthlib>=3.0.0 in /usr/local/lib/python3.7/dist-packages (from requests-oauthlib>=0.7.0->google-auth-oauthlib<0.5,>=0.4.1->tensorboard~=2.6->tensorflow<2.7,>=2.6.0->tensorflow_text) (3.1.1)\n",
            "Requirement already satisfied: zipp>=0.5 in /usr/local/lib/python3.7/dist-packages (from importlib-metadata->markdown>=2.6.8->tensorboard~=2.6->tensorflow<2.7,>=2.6.0->tensorflow_text) (3.6.0)\n",
            "Collecting transformers\n",
            "  Downloading transformers-4.11.3-py3-none-any.whl (2.9 MB)\n",
            "\u001b[K     |████████████████████████████████| 2.9 MB 5.2 MB/s \n",
            "\u001b[?25hRequirement already satisfied: numpy>=1.17 in /usr/local/lib/python3.7/dist-packages (from transformers) (1.19.5)\n",
            "Collecting sacremoses\n",
            "  Downloading sacremoses-0.0.46-py3-none-any.whl (895 kB)\n",
            "\u001b[K     |████████████████████████████████| 895 kB 29.5 MB/s \n",
            "\u001b[?25hRequirement already satisfied: tqdm>=4.27 in /usr/local/lib/python3.7/dist-packages (from transformers) (4.62.3)\n",
            "Requirement already satisfied: packaging>=20.0 in /usr/local/lib/python3.7/dist-packages (from transformers) (21.0)\n",
            "Collecting tokenizers<0.11,>=0.10.1\n",
            "  Downloading tokenizers-0.10.3-cp37-cp37m-manylinux_2_5_x86_64.manylinux1_x86_64.manylinux_2_12_x86_64.manylinux2010_x86_64.whl (3.3 MB)\n",
            "\u001b[K     |████████████████████████████████| 3.3 MB 36.8 MB/s \n",
            "\u001b[?25hCollecting pyyaml>=5.1\n",
            "  Downloading PyYAML-6.0-cp37-cp37m-manylinux_2_5_x86_64.manylinux1_x86_64.manylinux_2_12_x86_64.manylinux2010_x86_64.whl (596 kB)\n",
            "\u001b[K     |████████████████████████████████| 596 kB 47.7 MB/s \n",
            "\u001b[?25hRequirement already satisfied: requests in /usr/local/lib/python3.7/dist-packages (from transformers) (2.23.0)\n",
            "Collecting huggingface-hub>=0.0.17\n",
            "  Downloading huggingface_hub-0.0.19-py3-none-any.whl (56 kB)\n",
            "\u001b[K     |████████████████████████████████| 56 kB 4.5 MB/s \n",
            "\u001b[?25hRequirement already satisfied: regex!=2019.12.17 in /usr/local/lib/python3.7/dist-packages (from transformers) (2019.12.20)\n",
            "Requirement already satisfied: importlib-metadata in /usr/local/lib/python3.7/dist-packages (from transformers) (4.8.1)\n",
            "Requirement already satisfied: filelock in /usr/local/lib/python3.7/dist-packages (from transformers) (3.3.0)\n",
            "Requirement already satisfied: typing-extensions in /usr/local/lib/python3.7/dist-packages (from huggingface-hub>=0.0.17->transformers) (3.7.4.3)\n",
            "Requirement already satisfied: pyparsing>=2.0.2 in /usr/local/lib/python3.7/dist-packages (from packaging>=20.0->transformers) (2.4.7)\n",
            "Requirement already satisfied: zipp>=0.5 in /usr/local/lib/python3.7/dist-packages (from importlib-metadata->transformers) (3.6.0)\n",
            "Requirement already satisfied: urllib3!=1.25.0,!=1.25.1,<1.26,>=1.21.1 in /usr/local/lib/python3.7/dist-packages (from requests->transformers) (1.24.3)\n",
            "Requirement already satisfied: chardet<4,>=3.0.2 in /usr/local/lib/python3.7/dist-packages (from requests->transformers) (3.0.4)\n",
            "Requirement already satisfied: certifi>=2017.4.17 in /usr/local/lib/python3.7/dist-packages (from requests->transformers) (2021.5.30)\n",
            "Requirement already satisfied: idna<3,>=2.5 in /usr/local/lib/python3.7/dist-packages (from requests->transformers) (2.10)\n",
            "Requirement already satisfied: six in /usr/local/lib/python3.7/dist-packages (from sacremoses->transformers) (1.15.0)\n",
            "Requirement already satisfied: joblib in /usr/local/lib/python3.7/dist-packages (from sacremoses->transformers) (1.0.1)\n",
            "Requirement already satisfied: click in /usr/local/lib/python3.7/dist-packages (from sacremoses->transformers) (7.1.2)\n",
            "Installing collected packages: pyyaml, tokenizers, sacremoses, huggingface-hub, transformers\n",
            "  Attempting uninstall: pyyaml\n",
            "    Found existing installation: PyYAML 3.13\n",
            "    Uninstalling PyYAML-3.13:\n",
            "      Successfully uninstalled PyYAML-3.13\n",
            "Successfully installed huggingface-hub-0.0.19 pyyaml-6.0 sacremoses-0.0.46 tokenizers-0.10.3 transformers-4.11.3\n",
            "Collecting bert-for-tf2\n",
            "  Downloading bert-for-tf2-0.14.9.tar.gz (41 kB)\n",
            "\u001b[K     |████████████████████████████████| 41 kB 152 kB/s \n",
            "\u001b[?25hCollecting py-params>=0.9.6\n",
            "  Downloading py-params-0.10.2.tar.gz (7.4 kB)\n",
            "Collecting params-flow>=0.8.0\n",
            "  Downloading params-flow-0.8.2.tar.gz (22 kB)\n",
            "Requirement already satisfied: numpy in /usr/local/lib/python3.7/dist-packages (from params-flow>=0.8.0->bert-for-tf2) (1.19.5)\n",
            "Requirement already satisfied: tqdm in /usr/local/lib/python3.7/dist-packages (from params-flow>=0.8.0->bert-for-tf2) (4.62.3)\n",
            "Building wheels for collected packages: bert-for-tf2, params-flow, py-params\n",
            "  Building wheel for bert-for-tf2 (setup.py) ... \u001b[?25l\u001b[?25hdone\n",
            "  Created wheel for bert-for-tf2: filename=bert_for_tf2-0.14.9-py3-none-any.whl size=30534 sha256=6dfd173501d06690123467acd6338f4ef2d98059084e95354c2e51f5abe98351\n",
            "  Stored in directory: /root/.cache/pip/wheels/47/b6/e5/8c76ec779f54bc5c2f1b57d2200bb9c77616da83873e8acb53\n",
            "  Building wheel for params-flow (setup.py) ... \u001b[?25l\u001b[?25hdone\n",
            "  Created wheel for params-flow: filename=params_flow-0.8.2-py3-none-any.whl size=19473 sha256=4b2f97aa59f201265716b52b4acc2d02316c28c9317c698c8c95474fbe914eba\n",
            "  Stored in directory: /root/.cache/pip/wheels/0e/fc/d2/a44fff33af0f233d7def6e7de413006d57c10e10ad736fe8f5\n",
            "  Building wheel for py-params (setup.py) ... \u001b[?25l\u001b[?25hdone\n",
            "  Created wheel for py-params: filename=py_params-0.10.2-py3-none-any.whl size=7912 sha256=931a0ea367806cd5b2271e79ed36a25875fbd250846a5a8edc650e159d99f3a2\n",
            "  Stored in directory: /root/.cache/pip/wheels/e1/11/67/33cc51bbee127cb8fb2ba549cd29109b2f22da43ddf9969716\n",
            "Successfully built bert-for-tf2 params-flow py-params\n",
            "Installing collected packages: py-params, params-flow, bert-for-tf2\n",
            "Successfully installed bert-for-tf2-0.14.9 params-flow-0.8.2 py-params-0.10.2\n"
          ]
        }
      ]
    },
    {
      "cell_type": "markdown",
      "metadata": {
        "id": "XdmG-_hiexqE"
      },
      "source": [
        "## III. PREPARE DATA AND EMBEDDING LAYERS"
      ]
    },
    {
      "cell_type": "markdown",
      "metadata": {
        "id": "d0etEZ_Mpqw1"
      },
      "source": [
        "### 1. LOAD DATASETS"
      ]
    },
    {
      "cell_type": "markdown",
      "metadata": {
        "id": "pQWvLm-Usx9d"
      },
      "source": [
        "Data preprocessing and EDA details: https://colab.research.google.com/drive/1rN-BfkA5Vc5nMToka_Pyr1q1DtxlXxki#scrollTo=cdft12E7M0Kf"
      ]
    },
    {
      "cell_type": "code",
      "metadata": {
        "id": "r3xIJt_h76OU"
      },
      "source": [
        "train_df = pd.read_pickle('/content/gdrive/MyDrive/abstract_section_classification/data/train_dataset.pkl')\n",
        "val_df = pd.read_pickle('/content/gdrive/MyDrive/abstract_section_classification/data/val_dataset.pkl')\n",
        "test_df = pd.read_pickle('/content/gdrive/MyDrive/abstract_section_classification/data/test_dataset.pkl')"
      ],
      "execution_count": null,
      "outputs": []
    },
    {
      "cell_type": "code",
      "metadata": {
        "colab": {
          "base_uri": "https://localhost:8080/"
        },
        "id": "PJXiIHEHzWg8",
        "outputId": "c2d888dc-fae3-4a6e-c622-c966c8f4de64"
      },
      "source": [
        "train_df.shape, val_df.shape, test_df.shape"
      ],
      "execution_count": null,
      "outputs": [
        {
          "output_type": "execute_result",
          "data": {
            "text/plain": [
              "((180040, 4), (30212, 4), (30135, 4))"
            ]
          },
          "metadata": {},
          "execution_count": 4
        }
      ]
    },
    {
      "cell_type": "markdown",
      "metadata": {
        "id": "SvrNJ925bN6Z"
      },
      "source": [
        "### 2. LABEL DATA"
      ]
    },
    {
      "cell_type": "code",
      "metadata": {
        "colab": {
          "base_uri": "https://localhost:8080/"
        },
        "id": "45WoaVYBJq51",
        "outputId": "be36e993-277c-4614-bb46-abc3664aa0c1"
      },
      "source": [
        "# Convert labels into numeric form\n",
        "# Encode by OneHotEncoder\n",
        "from sklearn.preprocessing import OneHotEncoder\n",
        "one_hot_encoder = OneHotEncoder(sparse=False) # Encode and return an array because tensorflow is incompatible with sparse matrix\n",
        "train_label_one_hot_encoded = one_hot_encoder.fit_transform(train_df['label'].to_numpy().reshape(-1, 1))\n",
        "val_label_one_hot_encoded = one_hot_encoder.transform(val_df['label'].to_numpy().reshape(-1, 1))\n",
        "test_label_one_hot_encoded = one_hot_encoder.transform(test_df['label'].to_numpy().reshape(-1, 1))\n",
        "\n",
        "# Check with training data\n",
        "train_label_one_hot_encoded"
      ],
      "execution_count": null,
      "outputs": [
        {
          "output_type": "execute_result",
          "data": {
            "text/plain": [
              "array([[0., 0., 0., 1., 0.],\n",
              "       [0., 0., 1., 0., 0.],\n",
              "       [0., 0., 1., 0., 0.],\n",
              "       ...,\n",
              "       [0., 0., 0., 0., 1.],\n",
              "       [0., 1., 0., 0., 0.],\n",
              "       [0., 1., 0., 0., 0.]])"
            ]
          },
          "metadata": {},
          "execution_count": 5
        }
      ]
    },
    {
      "cell_type": "code",
      "metadata": {
        "colab": {
          "base_uri": "https://localhost:8080/"
        },
        "id": "YlBrljdRYgVW",
        "outputId": "eec7f4e4-162b-4c7c-c549-e7437ec6e097"
      },
      "source": [
        "# Encode labels by LabelEncoder\n",
        "from sklearn.preprocessing import LabelEncoder\n",
        "label_encoder = LabelEncoder()\n",
        "train_label_encoded = label_encoder.fit_transform(train_df['label'].to_numpy())\n",
        "val_label_encoded = label_encoder.transform(val_df['label'].to_numpy())\n",
        "test_label_encoded = label_encoder.transform(test_df['label'].to_numpy())\n",
        "\n",
        "# Check with training data\n",
        "train_label_encoded"
      ],
      "execution_count": null,
      "outputs": [
        {
          "output_type": "execute_result",
          "data": {
            "text/plain": [
              "array([3, 2, 2, ..., 4, 1, 1])"
            ]
          },
          "metadata": {},
          "execution_count": 6
        }
      ]
    },
    {
      "cell_type": "code",
      "metadata": {
        "colab": {
          "base_uri": "https://localhost:8080/"
        },
        "id": "flW7UTpphRa5",
        "outputId": "494ce413-bd10-4fbf-dc9a-580f73579167"
      },
      "source": [
        "# Get the class of labels from LabelEncoder\n",
        "number_of_classes = len(label_encoder.classes_)\n",
        "name_of_label_class = label_encoder.classes_\n",
        "print('Number of classes:', number_of_classes, '\\n', name_of_label_class)"
      ],
      "execution_count": null,
      "outputs": [
        {
          "output_type": "stream",
          "name": "stdout",
          "text": [
            "Number of classes: 5 \n",
            " ['BACKGROUND' 'CONCLUSIONS' 'METHODS' 'OBJECTIVE' 'RESULTS']\n"
          ]
        }
      ]
    },
    {
      "cell_type": "markdown",
      "metadata": {
        "id": "DjG5KVlTae0n"
      },
      "source": [
        "### 3. TOKEN-LEVEL DATA & TOKEN EMBEDDING LAYERS"
      ]
    },
    {
      "cell_type": "code",
      "metadata": {
        "colab": {
          "base_uri": "https://localhost:8080/"
        },
        "id": "Co1Po1wLG3Xd",
        "outputId": "fe0ffb97-5a45-406f-859d-dc08626600c4"
      },
      "source": [
        "# Get lists of sentences only for all train, val, and test datasets\n",
        "train_text_list = list(train_df['text'])\n",
        "val_text_list = list(val_df['text'])\n",
        "test_text_list = list(test_df['text'])\n",
        "\n",
        "len(train_text_list), len(val_text_list), len(test_text_list)"
      ],
      "execution_count": null,
      "outputs": [
        {
          "output_type": "execute_result",
          "data": {
            "text/plain": [
              "(180040, 30212, 30135)"
            ]
          },
          "metadata": {},
          "execution_count": 8
        }
      ]
    },
    {
      "cell_type": "markdown",
      "metadata": {
        "id": "04fWHfeycKN9"
      },
      "source": [
        "Feature Extraction with Pretrained Token Embeddings (Transfer Learning)\n",
        "* BERT text embeddings: https://tfhub.dev/google/experts/bert/pubmed/2\n",
        "* GloVe embeddings: https://nlp.stanford.edu/projects/glove/\n",
        "* Tensorflow Hub Universal Sentence Encoder (v4): https://tfhub.dev/google/universal-sentence-encoder/4"
      ]
    },
    {
      "cell_type": "code",
      "metadata": {
        "id": "IcJLFQ9gnKZX"
      },
      "source": [
        "module = \"https://tfhub.dev/tensorflow/bert_en_uncased_L-24_H-1024_A-16/1\"\n",
        "bert_layer = hub.KerasLayer(module, trainable=True)"
      ],
      "execution_count": null,
      "outputs": []
    },
    {
      "cell_type": "code",
      "metadata": {
        "id": "5Q--yxUep2pH"
      },
      "source": [
        "from bert import bert_tokenization\n",
        "\n",
        "vocab_file = bert_layer.resolved_object.vocab_file.asset_path.numpy()\n",
        "do_lower_case = bert_layer.resolved_object.do_lower_case.numpy()\n",
        "tokenizer = bert_tokenization.FullTokenizer(vocab_file, do_lower_case)"
      ],
      "execution_count": null,
      "outputs": []
    },
    {
      "cell_type": "code",
      "metadata": {
        "id": "C6Vv68whpl8N"
      },
      "source": [
        "def bert_encode(texts, tokenizer, max_len=512):\n",
        "    all_tokens = []\n",
        "    all_masks = []\n",
        "    all_segments = []\n",
        "    \n",
        "    for text in texts:\n",
        "        text = tokenizer.tokenize(text)\n",
        "            \n",
        "        text = text[:max_len-2]\n",
        "        input_sequence = [\"[CLS]\"] + text + [\"[SEP]\"]\n",
        "        pad_len = max_len - len(input_sequence)\n",
        "        \n",
        "        tokens = tokenizer.convert_tokens_to_ids(input_sequence)\n",
        "        tokens += [0] * pad_len\n",
        "        pad_masks = [1] * len(input_sequence) + [0] * pad_len\n",
        "        segment_ids = [0] * max_len\n",
        "        \n",
        "        all_tokens.append(tokens)\n",
        "        all_masks.append(pad_masks)\n",
        "        all_segments.append(segment_ids)\n",
        "    \n",
        "    return np.array(all_tokens), np.array(all_masks), np.array(all_segments)"
      ],
      "execution_count": null,
      "outputs": []
    },
    {
      "cell_type": "code",
      "metadata": {
        "id": "7HfpVtwRftbD"
      },
      "source": [
        "#\n",
        "def build_bert_model(bert_encoder, max_len=128):\n",
        "    input_token_id=layers.Input(shape=(max_len,), dtype=tf.int32)\n",
        "    input_mask=layers.Input(shape=(max_len,), dtype=tf.int32)\n",
        "    input_segment_id=layers.Input(shape=(max_len,), dtype=tf.int32)\n",
        "\n",
        "    #bert_outputs = bert_encoder([input_token_id, input_mask, input_segment_id], training=False)\n",
        "\n",
        "    _, sequence_output=bert_encoder([input_token_id, input_mask, input_segment_id]) # shape of sequence output [batch_size, max_len, 768]\n",
        "    cls_token=sequence_output[:,0,:] # get the cls token embeddings\n",
        "    output=layers.Dense(128, activation='relu')(cls_token)\n",
        "    model=tf.keras.Model(inputs=[input_token_id, input_mask, input_segment_id], outputs=output)\n",
        "\n",
        "    return model"
      ],
      "execution_count": null,
      "outputs": []
    },
    {
      "cell_type": "code",
      "metadata": {
        "id": "RrLrrGv7gYAQ"
      },
      "source": [
        "train_bert_inputs = bert_encode(train_text_list, tokenizer, max_len=128)\n",
        "val_bert_inputs = bert_encode(val_text_list, tokenizer, max_len=128)\n",
        "test_bert_inputs = bert_encode(test_text_list, tokenizer, max_len=128)"
      ],
      "execution_count": null,
      "outputs": []
    },
    {
      "cell_type": "markdown",
      "metadata": {
        "id": "h8YxOOh5akRr"
      },
      "source": [
        "### 4. CHARACTER-LEVEL DATA (SUB-MODEL 2)"
      ]
    },
    {
      "cell_type": "markdown",
      "metadata": {
        "id": "Pc868KD_dw_m"
      },
      "source": [
        "#### 3.1. Character-level Data Preparation"
      ]
    },
    {
      "cell_type": "code",
      "metadata": {
        "id": "4V5DXm7Ftxrr"
      },
      "source": [
        "# Create a character-level tokenizer\n",
        "# Create a function to split sentences into characters\n",
        "def split_characters(text):\n",
        "    text_split_list = ' '.join(list(text))\n",
        "    return text_split_list"
      ],
      "execution_count": null,
      "outputs": []
    },
    {
      "cell_type": "code",
      "metadata": {
        "colab": {
          "base_uri": "https://localhost:8080/"
        },
        "id": "vS0raMb7tNqR",
        "outputId": "accea832-0a19-49c6-fc0b-ad05ea05993d"
      },
      "source": [
        "# Apply split_character function to train dataset\n",
        "train_character_list = [split_characters(sentence) for sentence in train_text_list]\n",
        "val_character_list = [split_characters(sentence) for sentence in val_text_list]\n",
        "test_character_list = [split_characters(sentence) for sentence in test_text_list]\n",
        "\n",
        "# Convert character_list into numpy array\n",
        "train_character_list = np.array(train_character_list)\n",
        "val_character_list = np.array(val_character_list)\n",
        "test_character_list = np.array(test_character_list)\n",
        "\n",
        "train_character_list[:5]"
      ],
      "execution_count": null,
      "outputs": [
        {
          "output_type": "execute_result",
          "data": {
            "text/plain": [
              "array(['t o   i n v e s t i g a t e   t h e   e f f i c a c y   o f   @   w e e k s   o f   d a i l y   l o w - d o s e   o r a l   p r e d n i s o l o n e   i n   i m p r o v i n g   p a i n   ,   m o b i l i t y   ,   a n d   s y s t e m i c   l o w - g r a d e   i n f l a m m a t i o n   i n   t h e   s h o r t   t e r m   a n d   w h e t h e r   t h e   e f f e c t   w o u l d   b e   s u s t a i n e d   a t   @   w e e k s   i n   o l d e r   a d u l t s   w i t h   m o d e r a t e   t o   s e v e r e   k n e e   o s t e o a r t h r i t i s   (   o a   )   .',\n",
              "       'a   t o t a l   o f   @   p a t i e n t s   w i t h   p r i m a r y   k n e e   o a   w e r e   r a n d o m i z e d   @ : @   ;   @   r e c e i v e d   @   m g / d a y   o f   p r e d n i s o l o n e   a n d   @   r e c e i v e d   p l a c e b o   f o r   @   w e e k s   .',\n",
              "       'o u t c o m e   m e a s u r e s   i n c l u d e d   p a i n   r e d u c t i o n   a n d   i m p r o v e m e n t   i n   f u n c t i o n   s c o r e s   a n d   s y s t e m i c   i n f l a m m a t i o n   m a r k e r s   .',\n",
              "       'p a i n   w a s   a s s e s s e d   u s i n g   t h e   v i s u a l   a n a l o g   p a i n   s c a l e   (   @ - @   m m   )   .',\n",
              "       's e c o n d a r y   o u t c o m e   m e a s u r e s   i n c l u d e d   t h e   w e s t e r n   o n t a r i o   a n d   m c m a s t e r   u n i v e r s i t i e s   o s t e o a r t h r i t i s   i n d e x   s c o r e s   ,   p a t i e n t   g l o b a l   a s s e s s m e n t   (   p g a   )   o f   t h e   s e v e r i t y   o f   k n e e   o a   ,   a n d   @ - m i n   w a l k   d i s t a n c e   (   @ m w d   )   .'],\n",
              "      dtype='<U2771')"
            ]
          },
          "metadata": {},
          "execution_count": 15
        }
      ]
    },
    {
      "cell_type": "markdown",
      "metadata": {
        "id": "ydR64sL7d2Op"
      },
      "source": [
        "#### 3.2. Character-level Embedding Layers"
      ]
    },
    {
      "cell_type": "code",
      "metadata": {
        "colab": {
          "base_uri": "https://localhost:8080/",
          "height": 35
        },
        "id": "Fn5d42Dd0duQ",
        "outputId": "6aa46de1-8bf9-4cc4-af01-07a53a50197b"
      },
      "source": [
        "# Get all keyboard characters\n",
        "import string\n",
        "keyboard_character = string.ascii_lowercase + string.digits + string.punctuation + ' ' + 'UNK' # Unknown characters\n",
        "keyboard_character"
      ],
      "execution_count": null,
      "outputs": [
        {
          "output_type": "execute_result",
          "data": {
            "application/vnd.google.colaboratory.intrinsic+json": {
              "type": "string"
            },
            "text/plain": [
              "'abcdefghijklmnopqrstuvwxyz0123456789!\"#$%&\\'()*+,-./:;<=>?@[\\\\]^_`{|}~ UNK'"
            ]
          },
          "metadata": {},
          "execution_count": 16
        }
      ]
    },
    {
      "cell_type": "code",
      "metadata": {
        "id": "IMzavuQmEb6S"
      },
      "source": [
        "# Create Token Vectorizer for Characters\n",
        "from tensorflow.keras.layers import TextVectorization\n",
        "number_of_character_tokens = len(keyboard_character)\n",
        "character_vectorizer = TextVectorization(max_tokens=number_of_character_tokens,\n",
        "                                         output_sequence_length=290)"
      ],
      "execution_count": null,
      "outputs": []
    },
    {
      "cell_type": "code",
      "metadata": {
        "id": "rrl1fE1TFjkj"
      },
      "source": [
        "# Adapt character vectorizer to training character\n",
        "character_vectorizer.adapt(train_character_list)"
      ],
      "execution_count": null,
      "outputs": []
    },
    {
      "cell_type": "code",
      "metadata": {
        "colab": {
          "base_uri": "https://localhost:8080/"
        },
        "id": "zYE_Kwk0FwE7",
        "outputId": "6694dcd6-0f64-4ad2-c509-978a4a5fb169"
      },
      "source": [
        "# Check the number of words in the training vocabulary\n",
        "rct_character_vocab = character_vectorizer.get_vocabulary()\n",
        "print(f'Total number of characters: {len(rct_character_vocab)}')\n",
        "print(f'The top 5 most common characters: {rct_character_vocab[:5]}')\n",
        "print(f'The top 5 least common characters: {rct_character_vocab[-5:]}')"
      ],
      "execution_count": null,
      "outputs": [
        {
          "output_type": "stream",
          "name": "stdout",
          "text": [
            "Total number of characters: 28\n",
            "The top 5 most common characters: ['', '[UNK]', 'e', 't', 'i']\n",
            "The top 5 least common characters: ['k', 'x', 'z', 'q', 'j']\n"
          ]
        }
      ]
    },
    {
      "cell_type": "code",
      "metadata": {
        "id": "OeIgMcCPJSRV",
        "colab": {
          "base_uri": "https://localhost:8080/"
        },
        "outputId": "755465be-a984-475d-ab15-8223ccce2a94"
      },
      "source": [
        "import random\n",
        "select_train_characters = random.choice(train_character_list)\n",
        "character_vectorized = character_vectorizer([select_train_characters])\n",
        "print(f'Original character splitted sentence:\\n {select_train_characters}\\n')\n",
        "print(f'Length of the original character splitted sentence: {len(select_train_characters)}\\n')\n",
        "print(f'Vectorized characters:\\n {character_vectorized}\\n')\n",
        "print(f'Length of the vectorized characters: {len(character_vectorized[0])}')"
      ],
      "execution_count": null,
      "outputs": [
        {
          "output_type": "stream",
          "name": "stdout",
          "text": [
            "Original character splitted sentence:\n",
            " e r y t h r o c y t e   s e d i m e n t a t i o n   r a t e   (   e s r   )   w a s   d e t e c t e d   u s i n g   w e s t e r g r e n   m e t h o d   .\n",
            "\n",
            "Length of the original character splitted sentence: 153\n",
            "\n",
            "Vectorized characters:\n",
            " [[ 2  8 19  3 13  8  7 11 19  3  2  9  2 10  4 15  2  6  3  5  3  4  7  6\n",
            "   8  5  3  2  2  9  8 20  5  9 10  2  3  2 11  3  2 10 16  9  4  6 18 20\n",
            "   2  9  3  2  8 18  8  2  6 15  2  3 13  7 10  0  0  0  0  0  0  0  0  0\n",
            "   0  0  0  0  0  0  0  0  0  0  0  0  0  0  0  0  0  0  0  0  0  0  0  0\n",
            "   0  0  0  0  0  0  0  0  0  0  0  0  0  0  0  0  0  0  0  0  0  0  0  0\n",
            "   0  0  0  0  0  0  0  0  0  0  0  0  0  0  0  0  0  0  0  0  0  0  0  0\n",
            "   0  0  0  0  0  0  0  0  0  0  0  0  0  0  0  0  0  0  0  0  0  0  0  0\n",
            "   0  0  0  0  0  0  0  0  0  0  0  0  0  0  0  0  0  0  0  0  0  0  0  0\n",
            "   0  0  0  0  0  0  0  0  0  0  0  0  0  0  0  0  0  0  0  0  0  0  0  0\n",
            "   0  0  0  0  0  0  0  0  0  0  0  0  0  0  0  0  0  0  0  0  0  0  0  0\n",
            "   0  0  0  0  0  0  0  0  0  0  0  0  0  0  0  0  0  0  0  0  0  0  0  0\n",
            "   0  0  0  0  0  0  0  0  0  0  0  0  0  0  0  0  0  0  0  0  0  0  0  0\n",
            "   0  0]]\n",
            "\n",
            "Length of the vectorized characters: 290\n"
          ]
        }
      ]
    },
    {
      "cell_type": "code",
      "metadata": {
        "id": "c-yQBMu8LhXR"
      },
      "source": [
        "# Creating character embedding layer\n",
        "character_embedding_layer = layers.Embedding(input_dim=number_of_character_tokens,\n",
        "                                             output_dim=25,\n",
        "                                             mask_zero=True)"
      ],
      "execution_count": null,
      "outputs": []
    },
    {
      "cell_type": "code",
      "metadata": {
        "id": "H0SlnY_GTiqX",
        "colab": {
          "base_uri": "https://localhost:8080/"
        },
        "outputId": "060e1e52-a2e8-4528-bbd0-ed52c0577383"
      },
      "source": [
        "# Test character embedding layer\n",
        "print(f'Original character splitted sentence:\\n {select_train_characters}\\n')\n",
        "select_character_embedded = character_embedding_layer(character_vectorized)\n",
        "print(f'Embedded character:\\n {select_character_embedded}\\n')\n",
        "print(f'Embedded character shape: {select_character_embedded.shape}\\n')"
      ],
      "execution_count": null,
      "outputs": [
        {
          "output_type": "stream",
          "name": "stdout",
          "text": [
            "Original character splitted sentence:\n",
            " e r y t h r o c y t e   s e d i m e n t a t i o n   r a t e   (   e s r   )   w a s   d e t e c t e d   u s i n g   w e s t e r g r e n   m e t h o d   .\n",
            "\n",
            "Embedded character:\n",
            " [[[ 0.02501715  0.00274129  0.01693369 ...  0.00026101  0.03571183\n",
            "    0.03645972]\n",
            "  [-0.04019995  0.00349913  0.01097779 ...  0.02779149 -0.04338693\n",
            "   -0.00153133]\n",
            "  [ 0.01302106 -0.00516639  0.0490729  ...  0.00035653  0.0057217\n",
            "   -0.00234292]\n",
            "  ...\n",
            "  [ 0.00388049 -0.02037104  0.01535119 ... -0.03048643 -0.02065626\n",
            "    0.00480995]\n",
            "  [ 0.00388049 -0.02037104  0.01535119 ... -0.03048643 -0.02065626\n",
            "    0.00480995]\n",
            "  [ 0.00388049 -0.02037104  0.01535119 ... -0.03048643 -0.02065626\n",
            "    0.00480995]]]\n",
            "\n",
            "Embedded character shape: (1, 290, 25)\n",
            "\n"
          ]
        }
      ]
    },
    {
      "cell_type": "markdown",
      "metadata": {
        "id": "-A5Jg7A7aoDw"
      },
      "source": [
        "### 5. LINE_NUMBER AND TOTAL_LINE DATA (SUB-MODEL 3)"
      ]
    },
    {
      "cell_type": "code",
      "metadata": {
        "id": "1WKR0WX8ynUn",
        "colab": {
          "base_uri": "https://localhost:8080/"
        },
        "outputId": "c4449f5c-e4b6-4a44-d58a-d388c4c5a45d"
      },
      "source": [
        "# Encode line number using OneHotEncoder\n",
        "train_line_number_one_hot_encoder = tf.one_hot(train_df['line_number'].to_numpy(), depth=15)\n",
        "val_line_number_one_hot_encoder = tf.one_hot(val_df['line_number'].to_numpy(), depth=15)\n",
        "test_line_number_one_hot_encoder = tf.one_hot(test_df['line_number'].to_numpy(), depth=15)\n",
        "print(train_line_number_one_hot_encoder.shape, val_line_number_one_hot_encoder.shape, test_line_number_one_hot_encoder.shape)\n",
        "\n",
        "# Check the encoder with the first 5 rows\n",
        "train_line_number_one_hot_encoder[:5]"
      ],
      "execution_count": null,
      "outputs": [
        {
          "output_type": "stream",
          "name": "stdout",
          "text": [
            "(180040, 15) (30212, 15) (30135, 15)\n"
          ]
        },
        {
          "output_type": "execute_result",
          "data": {
            "text/plain": [
              "<tf.Tensor: shape=(5, 15), dtype=float32, numpy=\n",
              "array([[1., 0., 0., 0., 0., 0., 0., 0., 0., 0., 0., 0., 0., 0., 0.],\n",
              "       [0., 1., 0., 0., 0., 0., 0., 0., 0., 0., 0., 0., 0., 0., 0.],\n",
              "       [0., 0., 1., 0., 0., 0., 0., 0., 0., 0., 0., 0., 0., 0., 0.],\n",
              "       [0., 0., 0., 1., 0., 0., 0., 0., 0., 0., 0., 0., 0., 0., 0.],\n",
              "       [0., 0., 0., 0., 1., 0., 0., 0., 0., 0., 0., 0., 0., 0., 0.]],\n",
              "      dtype=float32)>"
            ]
          },
          "metadata": {},
          "execution_count": 23
        }
      ]
    },
    {
      "cell_type": "code",
      "metadata": {
        "id": "Ikc6VNu7H5kH",
        "colab": {
          "base_uri": "https://localhost:8080/"
        },
        "outputId": "08aedf2e-3f93-4774-a0e2-eaa4ac2dc485"
      },
      "source": [
        "# Encode line number using OneHotEncoder\n",
        "train_total_lines_one_hot_encoder = tf.one_hot(train_df['total_lines'].to_numpy(), depth=20)\n",
        "val_total_lines_one_hot_encoder = tf.one_hot(val_df['total_lines'].to_numpy(), depth=20)\n",
        "test_total_lines_one_hot_encoder = tf.one_hot(test_df['total_lines'].to_numpy(), depth=20)\n",
        "print(train_total_lines_one_hot_encoder.shape, val_total_lines_one_hot_encoder.shape, test_total_lines_one_hot_encoder.shape)\n",
        "\n",
        "# Check the encoder with the first 5 rows\n",
        "train_total_lines_one_hot_encoder[:5]"
      ],
      "execution_count": null,
      "outputs": [
        {
          "output_type": "stream",
          "name": "stdout",
          "text": [
            "(180040, 20) (30212, 20) (30135, 20)\n"
          ]
        },
        {
          "output_type": "execute_result",
          "data": {
            "text/plain": [
              "<tf.Tensor: shape=(5, 20), dtype=float32, numpy=\n",
              "array([[0., 0., 0., 0., 0., 0., 0., 0., 0., 0., 0., 1., 0., 0., 0., 0.,\n",
              "        0., 0., 0., 0.],\n",
              "       [0., 0., 0., 0., 0., 0., 0., 0., 0., 0., 0., 1., 0., 0., 0., 0.,\n",
              "        0., 0., 0., 0.],\n",
              "       [0., 0., 0., 0., 0., 0., 0., 0., 0., 0., 0., 1., 0., 0., 0., 0.,\n",
              "        0., 0., 0., 0.],\n",
              "       [0., 0., 0., 0., 0., 0., 0., 0., 0., 0., 0., 1., 0., 0., 0., 0.,\n",
              "        0., 0., 0., 0.],\n",
              "       [0., 0., 0., 0., 0., 0., 0., 0., 0., 0., 0., 1., 0., 0., 0., 0.,\n",
              "        0., 0., 0., 0.]], dtype=float32)>"
            ]
          },
          "metadata": {},
          "execution_count": 24
        }
      ]
    },
    {
      "cell_type": "markdown",
      "metadata": {
        "id": "EL-hClTzMPx0"
      },
      "source": [
        "### 6. TRAINING, VALIDATION AND TEST DATASETS"
      ]
    },
    {
      "cell_type": "markdown",
      "metadata": {
        "id": "KzxDydY9fWBx"
      },
      "source": [
        "#### 4.1. Traning Dataset"
      ]
    },
    {
      "cell_type": "code",
      "metadata": {
        "id": "pT89i442LS_k"
      },
      "source": [
        "train_data = [train_bert_inputs, train_character_list, train_line_number_one_hot_encoder, train_total_lines_one_hot_encoder]\n",
        "train_labels = train_label_one_hot_encoded"
      ],
      "execution_count": null,
      "outputs": []
    },
    {
      "cell_type": "markdown",
      "metadata": {
        "id": "cuJMVeqJfbhX"
      },
      "source": [
        "#### 4.2. Validation Dataset"
      ]
    },
    {
      "cell_type": "code",
      "metadata": {
        "id": "-2mNn08RhlhW"
      },
      "source": [
        "val_data = [val_bert_inputs, val_character_list, val_line_number_one_hot_encoder, val_total_lines_one_hot_encoder]\n",
        "val_labels = val_label_one_hot_encoded"
      ],
      "execution_count": null,
      "outputs": []
    },
    {
      "cell_type": "markdown",
      "metadata": {
        "id": "iXhRZTKgfeNf"
      },
      "source": [
        "#### 4.3. Test Dataset"
      ]
    },
    {
      "cell_type": "code",
      "metadata": {
        "id": "28cPGXOihvRk"
      },
      "source": [
        "test_data = [test_bert_inputs, test_character_list, test_line_number_one_hot_encoder, test_total_lines_one_hot_encoder]\n",
        "test_labels = test_label_one_hot_encoded"
      ],
      "execution_count": null,
      "outputs": []
    },
    {
      "cell_type": "markdown",
      "metadata": {
        "id": "n2DFmIB0RXT2"
      },
      "source": [
        "## V. MODEL:"
      ]
    },
    {
      "cell_type": "markdown",
      "metadata": {
        "id": "cBDDUIQMsV0s"
      },
      "source": [
        "*This model is using: BERT token embeddings, Customized character embeddings, and Self-created feature embeddings for line_number and total_lines*\n",
        "\n",
        "All the steps are listed as follows:\n",
        "1. Create a token-level embedding model\n",
        "2. Create a character-level model\n",
        "3. Create a line_number feature model\n",
        "4. Create a total_lines feature model\n",
        "5. Combine 1 and 2 with a concatenate (layers.Concatenate)\n",
        "6. Combine 3, 4, 5 with a concatenate (layers.Concatenate)\n",
        "7. Build a series of output layers on the top of step 3\n",
        "8. Create an output layer which receives token, character-level, positional sequences as inputs then returns sequence label probabilities as output\n",
        "9. Combine the all inputs into a model"
      ]
    },
    {
      "cell_type": "code",
      "metadata": {
        "id": "T2az31p7SnP8"
      },
      "source": [
        "# 1. Setup token model\n",
        "token_model = build_bert_model(bert_layer, max_len=128)\n",
        "\n",
        "# 2. Setup character model\n",
        "character_inputs = layers.Input(shape=(1,), dtype='string', name='character_inputs')\n",
        "character_vectorization = character_vectorizer(character_inputs)\n",
        "character_embeddings = character_embedding_layer(character_vectorization)\n",
        "character_bilstm = layers.Bidirectional(layers.LSTM(24))(character_embeddings)\n",
        "character_outputs = Dense(128, activation='relu')(character_bilstm)\n",
        "character_model = tf.keras.Model(inputs=character_inputs, outputs=character_outputs)\n",
        "\n",
        "# 3. line_numbers model\n",
        "line_number_inputs = layers.Input(shape=(15,), dtype=tf.float32, name='line_number_input')\n",
        "line_number_outputs = Dense(32, activation='relu')(line_number_inputs)\n",
        "line_number_model = tf.keras.Model(inputs=line_number_inputs, outputs=line_number_outputs)\n",
        "\n",
        "# 4. total_lines model\n",
        "total_line_inputs = layers.Input(shape=(20,), dtype=tf.float32, name='total_line_input')\n",
        "total_line_outputs = Dense(32, activation='relu')(total_line_inputs)\n",
        "total_line_model = tf.keras.Model(inputs=total_line_inputs, outputs=total_line_outputs)\n",
        "\n",
        "# 5. Concatenate token and character inputs into model\n",
        "token_character_embedding = layers.Concatenate(name='token_character_concatenate')([token_model.output, character_model.output])\n",
        "\n",
        "token_character_embedding_dense = layers.Dense(256, activation='relu')(token_character_embedding)\n",
        "dropout_layer = layers.Dropout(0.5)(token_character_embedding_dense)\n",
        "\n",
        "# 6. Concatenate positional embedding into token and character embeddings (token_character_concatenate)\n",
        "token_character_position_embedding = layers.Concatenate(name='token_character_position_embedding')([line_number_model.output, total_line_model.output, dropout_layer])\n",
        "\n",
        "# 7. Create output layers\n",
        "final_output = layers.Dense(number_of_classes, activation='softmax', name='final_output')(token_character_position_embedding)\n",
        "\n",
        "# . Construct model with token and character inputs\n",
        "model = tf.keras.Model(inputs=[token_model.input, character_model.input, line_number_model.input, total_line_model.input],\n",
        "                       outputs=final_output,\n",
        "                       name='token_character_position_model')"
      ],
      "execution_count": null,
      "outputs": []
    },
    {
      "cell_type": "code",
      "metadata": {
        "id": "fo4bsXcEjq3N",
        "colab": {
          "base_uri": "https://localhost:8080/"
        },
        "outputId": "c29bbccf-fb5f-4521-c05d-609c9d2d135e"
      },
      "source": [
        "# Summarize model\n",
        "model.summary()"
      ],
      "execution_count": null,
      "outputs": [
        {
          "output_type": "stream",
          "name": "stdout",
          "text": [
            "Model: \"token_character_position_model\"\n",
            "__________________________________________________________________________________________________\n",
            "Layer (type)                    Output Shape         Param #     Connected to                     \n",
            "==================================================================================================\n",
            "character_inputs (InputLayer)   [(None, 1)]          0                                            \n",
            "__________________________________________________________________________________________________\n",
            "input_1 (InputLayer)            [(None, 128)]        0                                            \n",
            "__________________________________________________________________________________________________\n",
            "input_2 (InputLayer)            [(None, 128)]        0                                            \n",
            "__________________________________________________________________________________________________\n",
            "input_3 (InputLayer)            [(None, 128)]        0                                            \n",
            "__________________________________________________________________________________________________\n",
            "text_vectorization (TextVectori (None, 290)          0           character_inputs[0][0]           \n",
            "__________________________________________________________________________________________________\n",
            "keras_layer (KerasLayer)        [(None, 1024), (None 335141889   input_1[0][0]                    \n",
            "                                                                 input_2[0][0]                    \n",
            "                                                                 input_3[0][0]                    \n",
            "__________________________________________________________________________________________________\n",
            "embedding (Embedding)           (None, 290, 25)      1800        text_vectorization[0][0]         \n",
            "__________________________________________________________________________________________________\n",
            "tf.__operators__.getitem (Slici (None, 1024)         0           keras_layer[0][1]                \n",
            "__________________________________________________________________________________________________\n",
            "bidirectional (Bidirectional)   (None, 48)           9600        embedding[0][0]                  \n",
            "__________________________________________________________________________________________________\n",
            "dense (Dense)                   (None, 128)          131200      tf.__operators__.getitem[0][0]   \n",
            "__________________________________________________________________________________________________\n",
            "dense_1 (Dense)                 (None, 128)          6272        bidirectional[0][0]              \n",
            "__________________________________________________________________________________________________\n",
            "token_character_concatenate (Co (None, 256)          0           dense[0][0]                      \n",
            "                                                                 dense_1[0][0]                    \n",
            "__________________________________________________________________________________________________\n",
            "line_number_input (InputLayer)  [(None, 15)]         0                                            \n",
            "__________________________________________________________________________________________________\n",
            "total_line_input (InputLayer)   [(None, 20)]         0                                            \n",
            "__________________________________________________________________________________________________\n",
            "dense_4 (Dense)                 (None, 256)          65792       token_character_concatenate[0][0]\n",
            "__________________________________________________________________________________________________\n",
            "dense_2 (Dense)                 (None, 32)           512         line_number_input[0][0]          \n",
            "__________________________________________________________________________________________________\n",
            "dense_3 (Dense)                 (None, 32)           672         total_line_input[0][0]           \n",
            "__________________________________________________________________________________________________\n",
            "dropout (Dropout)               (None, 256)          0           dense_4[0][0]                    \n",
            "__________________________________________________________________________________________________\n",
            "token_character_position_embedd (None, 320)          0           dense_2[0][0]                    \n",
            "                                                                 dense_3[0][0]                    \n",
            "                                                                 dropout[0][0]                    \n",
            "__________________________________________________________________________________________________\n",
            "final_output (Dense)            (None, 5)            1605        token_character_position_embeddin\n",
            "==================================================================================================\n",
            "Total params: 335,359,342\n",
            "Trainable params: 335,359,341\n",
            "Non-trainable params: 1\n",
            "__________________________________________________________________________________________________\n"
          ]
        }
      ]
    },
    {
      "cell_type": "code",
      "metadata": {
        "id": "H092TX2Il47u",
        "colab": {
          "base_uri": "https://localhost:8080/",
          "height": 729
        },
        "outputId": "b5d46cd5-69c1-44c8-cd3a-b6a794e9cd58"
      },
      "source": [
        "# Plot model\n",
        "from tensorflow.keras.utils import plot_model\n",
        "plot_model(model, show_shapes=True)"
      ],
      "execution_count": null,
      "outputs": [
        {
          "output_type": "execute_result",
          "data": {
            "image/png": "[encoded data removed]",
            "text/plain": [
              "<IPython.core.display.Image object>"
            ]
          },
          "metadata": {},
          "execution_count": 30
        }
      ]
    },
    {
      "cell_type": "markdown",
      "metadata": {
        "id": "crEA1dbMZ-jl"
      },
      "source": [
        "*Notes: \"None\" stands for Batch_size*"
      ]
    },
    {
      "cell_type": "markdown",
      "metadata": {
        "id": "Rvl7shHYpiOk"
      },
      "source": [
        "Use tf.keras.losses.CategoricalCrossentropy with label smoothing to assign some amount of value from the highest prediction probability to other classes in case the model is too confident on only one class, therefore, to prevent overfitting."
      ]
    },
    {
      "cell_type": "code",
      "metadata": {
        "id": "I-w4SR7Fnx4P"
      },
      "source": [
        "# Compile model\n",
        "model.compile(loss=tf.keras.losses.CategoricalCrossentropy(label_smoothing=0.2), # help to prevent overfitting (requires one_hot_encoding data format)\n",
        "              optimizer=tf.keras.optimizers.Adam(),\n",
        "              metrics=['accuracy'])"
      ],
      "execution_count": null,
      "outputs": []
    },
    {
      "cell_type": "code",
      "metadata": {
        "id": "6_2-hOZ8Fuz_"
      },
      "source": [
        "# Create early stopping\n",
        "early_stopping = tf.keras.callbacks.EarlyStopping(monitor='val_loss',\n",
        "                                                  patience=5,\n",
        "                                                  verbose=2,\n",
        "                                                  restore_best_weights=True)\n",
        "\n",
        "file_path = '/content/gdrive/MyDrive/abstract_section_classification/epochs/{epoch:02d}-{val_accuracy:.2f}.h5'\n",
        "\n",
        "# Create checkpoint\n",
        "checkpoint = tf.keras.callbacks.ModelCheckpoint(file_path,\n",
        "                                                monitor='val_loss',\n",
        "                                                verbose=1,\n",
        "                                                save_best_only=True,\n",
        "                                                mode='max')\n",
        "\n",
        "# Create callbacks list\n",
        "callbacks_list = [early_stopping, checkpoint]"
      ],
      "execution_count": null,
      "outputs": []
    },
    {
      "cell_type": "code",
      "metadata": {
        "colab": {
          "base_uri": "https://localhost:8080/"
        },
        "id": "GPEQ0evTbu0x",
        "outputId": "55eb45a9-2f32-4b78-a2b9-35fcab9ca6c9"
      },
      "source": [
        "# Initialize epochs\n",
        "init_epochs = 5\n",
        "\n",
        "# Fit model\n",
        "history_model_01 = model.fit(x=train_data,\n",
        "                             y=train_labels,\n",
        "                             validation_data=(val_data, val_labels),\n",
        "                             epochs=init_epochs,\n",
        "                             batch_size=16,\n",
        "                             verbose=1)"
      ],
      "execution_count": null,
      "outputs": [
        {
          "output_type": "stream",
          "name": "stdout",
          "text": [
            "Epoch 1/5\n",
            "11253/11253 [==============================] - 9703s 858ms/step - loss: 1.0727 - accuracy: 0.7307 - val_loss: 1.0085 - val_accuracy: 0.7811\n",
            "Epoch 2/5\n",
            " 2059/11253 [====>.........................] - ETA: 2:04:04 - loss: 1.0174 - accuracy: 0.7765"
          ]
        }
      ]
    },
    {
      "cell_type": "code",
      "metadata": {
        "id": "dP066awugp98"
      },
      "source": [
        "# Save model\n",
        "model.save('/content/gdrive/MyDrive/abstract_section_classification/model/Abstract_Section_Classification_01')"
      ],
      "execution_count": null,
      "outputs": []
    },
    {
      "cell_type": "code",
      "metadata": {
        "id": "pfs8yK5crrCP"
      },
      "source": [
        "init_epochs = 5\n",
        "fine_tune_epochs = 5\n",
        "total_epochs = init_epochs + fine_tune_epochs\n",
        "\n",
        "history_02 = model.fit(x=train_data,\n",
        "                       y=train_labels,\n",
        "                       validation_data=(val_data, val_labels),\n",
        "                       epochs=total_epochs,\n",
        "                       initial_epoch=init_epochs,\n",
        "                       callbacks=callbacks_list,\n",
        "                       batch_size=16,\n",
        "                       verbose=1)"
      ],
      "execution_count": null,
      "outputs": []
    },
    {
      "cell_type": "code",
      "metadata": {
        "id": "rwp924P9MsC0"
      },
      "source": [
        "# Save model\n",
        "model.save('/content/gdrive/MyDrive/abstract_section_classification/model/Abstract_Section_Classification_02')"
      ],
      "execution_count": null,
      "outputs": []
    },
    {
      "cell_type": "code",
      "metadata": {
        "id": "45oOlru4NO6U"
      },
      "source": [
        "init_epochs = 10\n",
        "fine_tune_epochs = 5\n",
        "total_epochs = init_epochs + fine_tune_epochs\n",
        "\n",
        "history_02 = model.fit(x=train_data,\n",
        "                       y=train_labels,\n",
        "                       validation_data=(val_data, val_labels),\n",
        "                       epochs=total_epochs,\n",
        "                       initial_epoch=init_epochs,\n",
        "                       callbacks=callbacks_list,\n",
        "                       batch_size=16,\n",
        "                       verbose=1)"
      ],
      "execution_count": null,
      "outputs": []
    },
    {
      "cell_type": "code",
      "metadata": {
        "id": "ewc4ZD0TNO6V"
      },
      "source": [
        "# Save model\n",
        "model.save('/content/gdrive/MyDrive/abstract_section_classification/model/Abstract_Section_Classification_03')"
      ],
      "execution_count": null,
      "outputs": []
    },
    {
      "cell_type": "code",
      "metadata": {
        "id": "eSUykbFVOMNm"
      },
      "source": [
        "init_epochs = 15\n",
        "fine_tune_epochs = 5\n",
        "total_epochs = init_epochs + fine_tune_epochs\n",
        "\n",
        "history_02 = model.fit(x=train_data,\n",
        "                       y=train_labels,\n",
        "                       validation_data=(val_data, val_labels),\n",
        "                       epochs=total_epochs,\n",
        "                       initial_epoch=init_epochs,\n",
        "                       callbacks=callbacks_list,\n",
        "                       batch_size=16,\n",
        "                       verbose=1)"
      ],
      "execution_count": null,
      "outputs": []
    },
    {
      "cell_type": "code",
      "metadata": {
        "id": "GVP8R6X_OMNo"
      },
      "source": [
        "# Save model\n",
        "model.save('/content/gdrive/MyDrive/abstract_section_classification/model/Abstract_Section_Classification_04')"
      ],
      "execution_count": null,
      "outputs": []
    },
    {
      "cell_type": "code",
      "metadata": {
        "id": "bGhnoAgfOXqF"
      },
      "source": [
        "init_epochs = 20\n",
        "fine_tune_epochs = 5\n",
        "total_epochs = init_epochs + fine_tune_epochs\n",
        "\n",
        "history_02 = model.fit(x=train_data,\n",
        "                       y=train_labels,\n",
        "                       validation_data=(val_data, val_labels),\n",
        "                       epochs=total_epochs,\n",
        "                       initial_epoch=init_epochs,\n",
        "                       callbacks=callbacks_list,\n",
        "                       batch_size=16,\n",
        "                       verbose=1)"
      ],
      "execution_count": null,
      "outputs": []
    },
    {
      "cell_type": "code",
      "metadata": {
        "id": "oQsAARymOXqG"
      },
      "source": [
        "# Save model\n",
        "model.save('/content/gdrive/MyDrive/abstract_section_classification/model/Abstract_Section_Classification_05')"
      ],
      "execution_count": null,
      "outputs": []
    },
    {
      "cell_type": "code",
      "metadata": {
        "id": "uVgSG3fobu0x"
      },
      "source": [
        "# Evaluate model\n",
        "model.evaluate(train_data)"
      ],
      "execution_count": null,
      "outputs": []
    },
    {
      "cell_type": "code",
      "metadata": {
        "id": "dxO4_VT-bu0y"
      },
      "source": [
        "# Use model to predict validation dataset\n",
        "model_pred_proba = model.predict(val_data) # token_character_val_dataset is required to have the same format as the training dataset\n",
        "model_pred_proba"
      ],
      "execution_count": null,
      "outputs": []
    },
    {
      "cell_type": "code",
      "metadata": {
        "id": "QxaVIhlKbu0y"
      },
      "source": [
        "# Convert probability predictions into labels\n",
        "model_preds = tf.argmax(model_pred_proba, axis=1)\n",
        "model_preds"
      ],
      "execution_count": null,
      "outputs": []
    },
    {
      "cell_type": "code",
      "metadata": {
        "id": "ZnX2Vrkt_HpL"
      },
      "source": [
        "from sklearn.metrics import accuracy_score, precision_recall_fscore_support\n",
        "\n",
        "def calculate_results(y_true, y_pred):\n",
        "\n",
        "  # Calculate model accuracy\n",
        "  model_accuracy = accuracy_score(y_true, y_pred) * 100\n",
        "  # Calculate model precision, recall and f1 score using \"weighted average\n",
        "  model_precision, model_recall, model_f1, _ = precision_recall_fscore_support(y_true, y_pred, average=\"weighted\")\n",
        "  model_results = {\"accuracy\": model_accuracy,\n",
        "                  \"precision\": model_precision,\n",
        "                  \"recall\": model_recall,\n",
        "                  \"f1\": model_f1}\n",
        "  return model_results"
      ],
      "execution_count": null,
      "outputs": []
    },
    {
      "cell_type": "code",
      "metadata": {
        "id": "G7Ge3PbLbu0y"
      },
      "source": [
        "# Evaluate model prediction results\n",
        "model_prediction_results = calculate_results(y_true=val_labels,\n",
        "                                             y_pred=model_preds)\n",
        "\n",
        "model_prediction_results"
      ],
      "execution_count": null,
      "outputs": []
    },
    {
      "cell_type": "code",
      "metadata": {
        "id": "kjdCBgdoS-MC"
      },
      "source": [
        "# Write a function to check the Confusion Matrix\n",
        "def make_confusion_matrix(y_true, y_pred, classes=None, figsize=(10, 10), text_size=15, norm=False, savefig=False): \n",
        "\n",
        "    # Create the confustion matrix\n",
        "    cm = confusion_matrix(y_true, y_pred)\n",
        "    cm_norm = cm.astype(\"float\") / cm.sum(axis=1)[:, np.newaxis] # normalize it\n",
        "    n_classes = cm.shape[0] # find the number of classes we're dealing with\n",
        "\n",
        "    # Plot the figure and make it pretty\n",
        "    fig, ax = plt.subplots(figsize=figsize)\n",
        "    cax = ax.matshow(cm, cmap=plt.cm.Blues) # colors will represent how 'correct' a class is, darker == better\n",
        "    fig.colorbar(cax)\n",
        "\n",
        "    # Are there a list of classes?\n",
        "    if classes:\n",
        "        labels = classes\n",
        "    else:\n",
        "        labels = np.arange(cm.shape[0])\n",
        "    \n",
        "    # Label the axes\n",
        "    ax.set(title=\"Confusion Matrix\",\n",
        "            xlabel=\"Predicted label\",\n",
        "            ylabel=\"True label\",\n",
        "            xticks=np.arange(n_classes), # create enough axis slots for each class\n",
        "            yticks=np.arange(n_classes), \n",
        "            xticklabels=labels, # axes will labeled with class names (if they exist) or ints\n",
        "            yticklabels=labels)\n",
        "    \n",
        "    # Make x-axis labels appear on bottom\n",
        "    ax.xaxis.set_label_position(\"bottom\")\n",
        "    ax.xaxis.tick_bottom()\n",
        "\n",
        "    # Set the threshold for different colors\n",
        "    threshold = (cm.max() + cm.min()) / 2.\n",
        "\n",
        "    # Plot the text on each cell\n",
        "    for i, j in itertools.product(range(cm.shape[0]), range(cm.shape[1])):\n",
        "        if norm:\n",
        "        plt.text(j, i, f\"{cm[i, j]} ({cm_norm[i, j]*100:.1f}%)\",\n",
        "                horizontalalignment=\"center\",\n",
        "                color=\"white\" if cm[i, j] > threshold else \"black\",\n",
        "                size=text_size)\n",
        "        else:\n",
        "        plt.text(j, i, f\"{cm[i, j]}\",\n",
        "                horizontalalignment=\"center\",\n",
        "                color=\"white\" if cm[i, j] > threshold else \"black\",\n",
        "                size=text_size)\n",
        "\n",
        "    #   # Save the figure to the current working directory\n",
        "    #   if savefig:\n",
        "    #     fig.savefig(\"confusion_matrix.png\")"
      ],
      "execution_count": null,
      "outputs": []
    },
    {
      "cell_type": "code",
      "metadata": {
        "id": "emD9mBVdbu0y"
      },
      "source": [
        "confusion_matrix(y_true=val_labels,\n",
        "                 y_pred=model_preds)"
      ],
      "execution_count": null,
      "outputs": []
    },
    {
      "cell_type": "markdown",
      "metadata": {
        "id": "UOG_DzG_xANZ"
      },
      "source": [
        "### Save and Load Model"
      ]
    },
    {
      "cell_type": "code",
      "metadata": {
        "id": "aft74c4hvTBR"
      },
      "source": [
        "# Save model\n",
        "model.save('/content/gdrive/MyDrive/abstract_section_classification/model/Abstract_Section_Classification')"
      ],
      "execution_count": null,
      "outputs": []
    },
    {
      "cell_type": "code",
      "metadata": {
        "id": "tMohjEInxhFZ"
      },
      "source": [
        "# Load model\n",
        "loaded_model = tf.keras.models.load_model('/content/gdrive/MyDrive/abstract_section_classification/model/Abstract_Section_Classification')"
      ],
      "execution_count": null,
      "outputs": []
    },
    {
      "cell_type": "markdown",
      "metadata": {
        "id": "FhIyNphGtFAY"
      },
      "source": [
        "### DISCOVER MORE:\n",
        "\n",
        "1. Training, Validation, and Testing data preparation: https://colab.research.google.com/drive/1rN-BfkA5Vc5nMToka_Pyr1q1DtxlXxki#scrollTo=FhIyNphGtFAY\n",
        "\n",
        "2. Model creation and training: https://colab.research.google.com/drive/1ZrEdJBmeU0FDtNN5F_s0eU6yqvAEIPMt#scrollTo=d0etEZ_Mpqw1&uniqifier=1\n",
        "\n",
        "3. Demo data preprocessing and model prediction\n",
        "https://colab.research.google.com/drive/1l3fQn91sOx7KbsLBiIPls_Aaw9CvAkFY#scrollTo=vS0raMb7tNqR"
      ]
    }
  ]
}