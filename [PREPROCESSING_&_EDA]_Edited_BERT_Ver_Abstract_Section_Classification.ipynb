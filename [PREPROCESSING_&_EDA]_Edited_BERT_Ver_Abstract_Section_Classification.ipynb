{
  "nbformat": 4,
  "nbformat_minor": 0,
  "metadata": {
    "colab": {
      "name": "[PREPROCESSING & EDA] Edited_BERT_Ver_Abstract_Section_Classification.ipynb",
      "provenance": [],
      "collapsed_sections": []
    },
    "kernelspec": {
      "display_name": "Python 3",
      "name": "python3"
    },
    "language_info": {
      "name": "python"
    }
  },
  "cells": [
    {
      "cell_type": "markdown",
      "metadata": {
        "id": "KEZzQbjD4uJE"
      },
      "source": [
        "## I. IMPORT LIBRARIES AND ESSENTIAL FUNCTIONS"
      ]
    },
    {
      "cell_type": "code",
      "metadata": {
        "colab": {
          "base_uri": "https://localhost:8080/"
        },
        "id": "OkRzVluiG8_J",
        "outputId": "077f256b-a4c0-4ce1-8857-759d10a33c8a"
      },
      "source": [
        "# Mount Google drive locally\n",
        "from google.colab import drive\n",
        "drive.mount('/content/gdrive')"
      ],
      "execution_count": null,
      "outputs": [
        {
          "name": "stdout",
          "output_type": "stream",
          "text": [
            "Mounted at /content/gdrive\n"
          ]
        }
      ]
    },
    {
      "cell_type": "code",
      "metadata": {
        "colab": {
          "base_uri": "https://localhost:8080/"
        },
        "id": "aw6eMT3pzR6M",
        "outputId": "d08be204-e7ec-4056-e373-fc39ff6f3531"
      },
      "source": [
        "import numpy as np\n",
        "import pandas as pd\n",
        "import tensorflow as tf\n",
        "import tensorflow_hub as hub\n",
        "from tensorflow.keras import layers\n",
        "from tensorflow.keras.layers import Dense\n",
        "from tensorflow.keras.layers.experimental.preprocessing import TextVectorization\n",
        "\n",
        "!pip install --quiet tensorflow-text\n",
        "!pip install tensorflow_text\n",
        "import tensorflow_text as text\n",
        "\n",
        "import os\n",
        "\n",
        "# Install Transformers library \n",
        "!pip install transformers\n",
        "\n",
        "import seaborn as sns\n",
        "import matplotlib.pyplot as plt\n",
        "\n",
        "plt.style.use('dark_background')"
      ],
      "execution_count": null,
      "outputs": [
        {
          "name": "stdout",
          "output_type": "stream",
          "text": [
            "\u001b[K     |████████████████████████████████| 4.4 MB 8.8 MB/s \n",
            "\u001b[?25hRequirement already satisfied: tensorflow_text in /usr/local/lib/python3.7/dist-packages (2.6.0)\n",
            "Requirement already satisfied: tensorflow-hub>=0.8.0 in /usr/local/lib/python3.7/dist-packages (from tensorflow_text) (0.12.0)\n",
            "Requirement already satisfied: tensorflow<2.7,>=2.6.0 in /usr/local/lib/python3.7/dist-packages (from tensorflow_text) (2.6.0)\n",
            "Requirement already satisfied: opt-einsum~=3.3.0 in /usr/local/lib/python3.7/dist-packages (from tensorflow<2.7,>=2.6.0->tensorflow_text) (3.3.0)\n",
            "Requirement already satisfied: google-pasta~=0.2 in /usr/local/lib/python3.7/dist-packages (from tensorflow<2.7,>=2.6.0->tensorflow_text) (0.2.0)\n",
            "Requirement already satisfied: six~=1.15.0 in /usr/local/lib/python3.7/dist-packages (from tensorflow<2.7,>=2.6.0->tensorflow_text) (1.15.0)\n",
            "Requirement already satisfied: wrapt~=1.12.1 in /usr/local/lib/python3.7/dist-packages (from tensorflow<2.7,>=2.6.0->tensorflow_text) (1.12.1)\n",
            "Requirement already satisfied: keras~=2.6 in /usr/local/lib/python3.7/dist-packages (from tensorflow<2.7,>=2.6.0->tensorflow_text) (2.6.0)\n",
            "Requirement already satisfied: tensorboard~=2.6 in /usr/local/lib/python3.7/dist-packages (from tensorflow<2.7,>=2.6.0->tensorflow_text) (2.6.0)\n",
            "Requirement already satisfied: termcolor~=1.1.0 in /usr/local/lib/python3.7/dist-packages (from tensorflow<2.7,>=2.6.0->tensorflow_text) (1.1.0)\n",
            "Requirement already satisfied: flatbuffers~=1.12.0 in /usr/local/lib/python3.7/dist-packages (from tensorflow<2.7,>=2.6.0->tensorflow_text) (1.12)\n",
            "Requirement already satisfied: grpcio<2.0,>=1.37.0 in /usr/local/lib/python3.7/dist-packages (from tensorflow<2.7,>=2.6.0->tensorflow_text) (1.41.0)\n",
            "Requirement already satisfied: gast==0.4.0 in /usr/local/lib/python3.7/dist-packages (from tensorflow<2.7,>=2.6.0->tensorflow_text) (0.4.0)\n",
            "Requirement already satisfied: h5py~=3.1.0 in /usr/local/lib/python3.7/dist-packages (from tensorflow<2.7,>=2.6.0->tensorflow_text) (3.1.0)\n",
            "Requirement already satisfied: wheel~=0.35 in /usr/local/lib/python3.7/dist-packages (from tensorflow<2.7,>=2.6.0->tensorflow_text) (0.37.0)\n",
            "Requirement already satisfied: protobuf>=3.9.2 in /usr/local/lib/python3.7/dist-packages (from tensorflow<2.7,>=2.6.0->tensorflow_text) (3.17.3)\n",
            "Requirement already satisfied: astunparse~=1.6.3 in /usr/local/lib/python3.7/dist-packages (from tensorflow<2.7,>=2.6.0->tensorflow_text) (1.6.3)\n",
            "Requirement already satisfied: keras-preprocessing~=1.1.2 in /usr/local/lib/python3.7/dist-packages (from tensorflow<2.7,>=2.6.0->tensorflow_text) (1.1.2)\n",
            "Requirement already satisfied: typing-extensions~=3.7.4 in /usr/local/lib/python3.7/dist-packages (from tensorflow<2.7,>=2.6.0->tensorflow_text) (3.7.4.3)\n",
            "Requirement already satisfied: clang~=5.0 in /usr/local/lib/python3.7/dist-packages (from tensorflow<2.7,>=2.6.0->tensorflow_text) (5.0)\n",
            "Requirement already satisfied: numpy~=1.19.2 in /usr/local/lib/python3.7/dist-packages (from tensorflow<2.7,>=2.6.0->tensorflow_text) (1.19.5)\n",
            "Requirement already satisfied: tensorflow-estimator~=2.6 in /usr/local/lib/python3.7/dist-packages (from tensorflow<2.7,>=2.6.0->tensorflow_text) (2.6.0)\n",
            "Requirement already satisfied: absl-py~=0.10 in /usr/local/lib/python3.7/dist-packages (from tensorflow<2.7,>=2.6.0->tensorflow_text) (0.12.0)\n",
            "Requirement already satisfied: cached-property in /usr/local/lib/python3.7/dist-packages (from h5py~=3.1.0->tensorflow<2.7,>=2.6.0->tensorflow_text) (1.5.2)\n",
            "Requirement already satisfied: google-auth-oauthlib<0.5,>=0.4.1 in /usr/local/lib/python3.7/dist-packages (from tensorboard~=2.6->tensorflow<2.7,>=2.6.0->tensorflow_text) (0.4.6)\n",
            "Requirement already satisfied: tensorboard-data-server<0.7.0,>=0.6.0 in /usr/local/lib/python3.7/dist-packages (from tensorboard~=2.6->tensorflow<2.7,>=2.6.0->tensorflow_text) (0.6.1)\n",
            "Requirement already satisfied: google-auth<2,>=1.6.3 in /usr/local/lib/python3.7/dist-packages (from tensorboard~=2.6->tensorflow<2.7,>=2.6.0->tensorflow_text) (1.35.0)\n",
            "Requirement already satisfied: requests<3,>=2.21.0 in /usr/local/lib/python3.7/dist-packages (from tensorboard~=2.6->tensorflow<2.7,>=2.6.0->tensorflow_text) (2.23.0)\n",
            "Requirement already satisfied: setuptools>=41.0.0 in /usr/local/lib/python3.7/dist-packages (from tensorboard~=2.6->tensorflow<2.7,>=2.6.0->tensorflow_text) (57.4.0)\n",
            "Requirement already satisfied: markdown>=2.6.8 in /usr/local/lib/python3.7/dist-packages (from tensorboard~=2.6->tensorflow<2.7,>=2.6.0->tensorflow_text) (3.3.4)\n",
            "Requirement already satisfied: tensorboard-plugin-wit>=1.6.0 in /usr/local/lib/python3.7/dist-packages (from tensorboard~=2.6->tensorflow<2.7,>=2.6.0->tensorflow_text) (1.8.0)\n",
            "Requirement already satisfied: werkzeug>=0.11.15 in /usr/local/lib/python3.7/dist-packages (from tensorboard~=2.6->tensorflow<2.7,>=2.6.0->tensorflow_text) (1.0.1)\n",
            "Requirement already satisfied: pyasn1-modules>=0.2.1 in /usr/local/lib/python3.7/dist-packages (from google-auth<2,>=1.6.3->tensorboard~=2.6->tensorflow<2.7,>=2.6.0->tensorflow_text) (0.2.8)\n",
            "Requirement already satisfied: cachetools<5.0,>=2.0.0 in /usr/local/lib/python3.7/dist-packages (from google-auth<2,>=1.6.3->tensorboard~=2.6->tensorflow<2.7,>=2.6.0->tensorflow_text) (4.2.4)\n",
            "Requirement already satisfied: rsa<5,>=3.1.4 in /usr/local/lib/python3.7/dist-packages (from google-auth<2,>=1.6.3->tensorboard~=2.6->tensorflow<2.7,>=2.6.0->tensorflow_text) (4.7.2)\n",
            "Requirement already satisfied: requests-oauthlib>=0.7.0 in /usr/local/lib/python3.7/dist-packages (from google-auth-oauthlib<0.5,>=0.4.1->tensorboard~=2.6->tensorflow<2.7,>=2.6.0->tensorflow_text) (1.3.0)\n",
            "Requirement already satisfied: importlib-metadata in /usr/local/lib/python3.7/dist-packages (from markdown>=2.6.8->tensorboard~=2.6->tensorflow<2.7,>=2.6.0->tensorflow_text) (4.8.1)\n",
            "Requirement already satisfied: pyasn1<0.5.0,>=0.4.6 in /usr/local/lib/python3.7/dist-packages (from pyasn1-modules>=0.2.1->google-auth<2,>=1.6.3->tensorboard~=2.6->tensorflow<2.7,>=2.6.0->tensorflow_text) (0.4.8)\n",
            "Requirement already satisfied: idna<3,>=2.5 in /usr/local/lib/python3.7/dist-packages (from requests<3,>=2.21.0->tensorboard~=2.6->tensorflow<2.7,>=2.6.0->tensorflow_text) (2.10)\n",
            "Requirement already satisfied: chardet<4,>=3.0.2 in /usr/local/lib/python3.7/dist-packages (from requests<3,>=2.21.0->tensorboard~=2.6->tensorflow<2.7,>=2.6.0->tensorflow_text) (3.0.4)\n",
            "Requirement already satisfied: certifi>=2017.4.17 in /usr/local/lib/python3.7/dist-packages (from requests<3,>=2.21.0->tensorboard~=2.6->tensorflow<2.7,>=2.6.0->tensorflow_text) (2021.5.30)\n",
            "Requirement already satisfied: urllib3!=1.25.0,!=1.25.1,<1.26,>=1.21.1 in /usr/local/lib/python3.7/dist-packages (from requests<3,>=2.21.0->tensorboard~=2.6->tensorflow<2.7,>=2.6.0->tensorflow_text) (1.24.3)\n",
            "Requirement already satisfied: oauthlib>=3.0.0 in /usr/local/lib/python3.7/dist-packages (from requests-oauthlib>=0.7.0->google-auth-oauthlib<0.5,>=0.4.1->tensorboard~=2.6->tensorflow<2.7,>=2.6.0->tensorflow_text) (3.1.1)\n",
            "Requirement already satisfied: zipp>=0.5 in /usr/local/lib/python3.7/dist-packages (from importlib-metadata->markdown>=2.6.8->tensorboard~=2.6->tensorflow<2.7,>=2.6.0->tensorflow_text) (3.6.0)\n",
            "Collecting transformers\n",
            "  Downloading transformers-4.11.3-py3-none-any.whl (2.9 MB)\n",
            "\u001b[K     |████████████████████████████████| 2.9 MB 8.9 MB/s \n",
            "\u001b[?25hCollecting pyyaml>=5.1\n",
            "  Downloading PyYAML-6.0-cp37-cp37m-manylinux_2_5_x86_64.manylinux1_x86_64.manylinux_2_12_x86_64.manylinux2010_x86_64.whl (596 kB)\n",
            "\u001b[K     |████████████████████████████████| 596 kB 48.6 MB/s \n",
            "\u001b[?25hRequirement already satisfied: numpy>=1.17 in /usr/local/lib/python3.7/dist-packages (from transformers) (1.19.5)\n",
            "Requirement already satisfied: regex!=2019.12.17 in /usr/local/lib/python3.7/dist-packages (from transformers) (2019.12.20)\n",
            "Requirement already satisfied: packaging>=20.0 in /usr/local/lib/python3.7/dist-packages (from transformers) (21.0)\n",
            "Collecting tokenizers<0.11,>=0.10.1\n",
            "  Downloading tokenizers-0.10.3-cp37-cp37m-manylinux_2_5_x86_64.manylinux1_x86_64.manylinux_2_12_x86_64.manylinux2010_x86_64.whl (3.3 MB)\n",
            "\u001b[K     |████████████████████████████████| 3.3 MB 42.6 MB/s \n",
            "\u001b[?25hRequirement already satisfied: tqdm>=4.27 in /usr/local/lib/python3.7/dist-packages (from transformers) (4.62.3)\n",
            "Collecting sacremoses\n",
            "  Downloading sacremoses-0.0.46-py3-none-any.whl (895 kB)\n",
            "\u001b[K     |████████████████████████████████| 895 kB 34.8 MB/s \n",
            "\u001b[?25hRequirement already satisfied: importlib-metadata in /usr/local/lib/python3.7/dist-packages (from transformers) (4.8.1)\n",
            "Requirement already satisfied: filelock in /usr/local/lib/python3.7/dist-packages (from transformers) (3.3.0)\n",
            "Requirement already satisfied: requests in /usr/local/lib/python3.7/dist-packages (from transformers) (2.23.0)\n",
            "Collecting huggingface-hub>=0.0.17\n",
            "  Downloading huggingface_hub-0.0.19-py3-none-any.whl (56 kB)\n",
            "\u001b[K     |████████████████████████████████| 56 kB 3.3 MB/s \n",
            "\u001b[?25hRequirement already satisfied: typing-extensions in /usr/local/lib/python3.7/dist-packages (from huggingface-hub>=0.0.17->transformers) (3.7.4.3)\n",
            "Requirement already satisfied: pyparsing>=2.0.2 in /usr/local/lib/python3.7/dist-packages (from packaging>=20.0->transformers) (2.4.7)\n",
            "Requirement already satisfied: zipp>=0.5 in /usr/local/lib/python3.7/dist-packages (from importlib-metadata->transformers) (3.6.0)\n",
            "Requirement already satisfied: idna<3,>=2.5 in /usr/local/lib/python3.7/dist-packages (from requests->transformers) (2.10)\n",
            "Requirement already satisfied: chardet<4,>=3.0.2 in /usr/local/lib/python3.7/dist-packages (from requests->transformers) (3.0.4)\n",
            "Requirement already satisfied: urllib3!=1.25.0,!=1.25.1,<1.26,>=1.21.1 in /usr/local/lib/python3.7/dist-packages (from requests->transformers) (1.24.3)\n",
            "Requirement already satisfied: certifi>=2017.4.17 in /usr/local/lib/python3.7/dist-packages (from requests->transformers) (2021.5.30)\n",
            "Requirement already satisfied: six in /usr/local/lib/python3.7/dist-packages (from sacremoses->transformers) (1.15.0)\n",
            "Requirement already satisfied: joblib in /usr/local/lib/python3.7/dist-packages (from sacremoses->transformers) (1.0.1)\n",
            "Requirement already satisfied: click in /usr/local/lib/python3.7/dist-packages (from sacremoses->transformers) (7.1.2)\n",
            "Installing collected packages: pyyaml, tokenizers, sacremoses, huggingface-hub, transformers\n",
            "  Attempting uninstall: pyyaml\n",
            "    Found existing installation: PyYAML 3.13\n",
            "    Uninstalling PyYAML-3.13:\n",
            "      Successfully uninstalled PyYAML-3.13\n",
            "Successfully installed huggingface-hub-0.0.19 pyyaml-6.0 sacremoses-0.0.46 tokenizers-0.10.3 transformers-4.11.3\n"
          ]
        }
      ]
    },
    {
      "cell_type": "markdown",
      "metadata": {
        "id": "XdmG-_hiexqE"
      },
      "source": [
        "## II. GET AND OVERVIEW THE RAW DATASET\n",
        "\n"
      ]
    },
    {
      "cell_type": "code",
      "metadata": {
        "colab": {
          "base_uri": "https://localhost:8080/"
        },
        "id": "hWQ3lBUyegHa",
        "outputId": "2ccfcea3-5edd-4422-93cd-148cac1573f2"
      },
      "source": [
        "!git clone https://github.com/Franck-Dernoncourt/pubmed-rct.git\n",
        "!ls pubmed-rct"
      ],
      "execution_count": null,
      "outputs": [
        {
          "name": "stdout",
          "output_type": "stream",
          "text": [
            "Cloning into 'pubmed-rct'...\n",
            "remote: Enumerating objects: 33, done.\u001b[K\n",
            "remote: Counting objects: 100% (3/3), done.\u001b[K\n",
            "remote: Compressing objects: 100% (3/3), done.\u001b[K\n",
            "remote: Total 33 (delta 0), reused 0 (delta 0), pack-reused 30\u001b[K\n",
            "Unpacking objects: 100% (33/33), done.\n",
            "PubMed_200k_RCT\n",
            "PubMed_200k_RCT_numbers_replaced_with_at_sign\n",
            "PubMed_20k_RCT\n",
            "PubMed_20k_RCT_numbers_replaced_with_at_sign\n",
            "README.md\n"
          ]
        }
      ]
    },
    {
      "cell_type": "markdown",
      "metadata": {
        "id": "XU2auEzmOUkO"
      },
      "source": [
        "* There are 5 class: BACKGROUND, OBJECTIVE, METHODS, RESULTS, CONCLUSIONS"
      ]
    },
    {
      "cell_type": "code",
      "metadata": {
        "colab": {
          "base_uri": "https://localhost:8080/"
        },
        "id": "Yz9_A6GkgSh5",
        "outputId": "65493259-2dfe-49b2-a4a4-daf4e0340da8"
      },
      "source": [
        "# Check the files inside PubMed_200k_RCT_numbers_replaced_with_at_sign\n",
        "!ls pubmed-rct/PubMed_20k_RCT_numbers_replaced_with_at_sign/"
      ],
      "execution_count": null,
      "outputs": [
        {
          "name": "stdout",
          "output_type": "stream",
          "text": [
            "dev.txt  test.txt  train.txt\n"
          ]
        }
      ]
    },
    {
      "cell_type": "markdown",
      "metadata": {
        "id": "fM9ast7liB5X"
      },
      "source": [
        "Comments:\n",
        "\n",
        "The dataset contains 3 files, which are:\n",
        "* dev.txt = validation set\n",
        "* test.txt = test set\n",
        "* train.zip = train set"
      ]
    },
    {
      "cell_type": "code",
      "metadata": {
        "id": "U07RK6hEjhA-"
      },
      "source": [
        "data_dir = '/content/pubmed-rct/PubMed_20k_RCT_numbers_replaced_with_at_sign/'"
      ],
      "execution_count": null,
      "outputs": []
    },
    {
      "cell_type": "code",
      "metadata": {
        "colab": {
          "base_uri": "https://localhost:8080/"
        },
        "id": "n4fdF8vilYcp",
        "outputId": "facc8b08-a7be-4151-c545-71db8196c54d"
      },
      "source": [
        "# Check all filenames inside the data_dir\n",
        "filenames = [data_dir + filename for filename in os.listdir(data_dir)]\n",
        "filenames"
      ],
      "execution_count": null,
      "outputs": [
        {
          "data": {
            "text/plain": [
              "['/content/pubmed-rct/PubMed_20k_RCT_numbers_replaced_with_at_sign/dev.txt',\n",
              " '/content/pubmed-rct/PubMed_20k_RCT_numbers_replaced_with_at_sign/train.txt',\n",
              " '/content/pubmed-rct/PubMed_20k_RCT_numbers_replaced_with_at_sign/test.txt']"
            ]
          },
          "execution_count": 6,
          "metadata": {},
          "output_type": "execute_result"
        }
      ]
    },
    {
      "cell_type": "code",
      "metadata": {
        "id": "PPosx9tQl_fy"
      },
      "source": [
        "# Create a function to read a text filename and return the lines of text as a list\n",
        "def get_lines(filename):\n",
        "    with open(filename, 'r') as f:\n",
        "        return f.readlines()"
      ],
      "execution_count": null,
      "outputs": []
    },
    {
      "cell_type": "code",
      "metadata": {
        "id": "CpFAvnVY2aYi"
      },
      "source": [
        "# Read the lines from dev, train, and test.txt to the appropriate lists (for 20k dataset)\n",
        "train_list = get_lines('/content/pubmed-rct/PubMed_20k_RCT_numbers_replaced_with_at_sign/train.txt')\n",
        "val_list = get_lines('/content/pubmed-rct/PubMed_20k_RCT_numbers_replaced_with_at_sign/dev.txt')\n",
        "test_list = get_lines('/content/pubmed-rct/PubMed_20k_RCT_numbers_replaced_with_at_sign/test.txt')"
      ],
      "execution_count": null,
      "outputs": []
    },
    {
      "cell_type": "code",
      "metadata": {
        "colab": {
          "base_uri": "https://localhost:8080/"
        },
        "id": "Ifkzph7iKGpy",
        "outputId": "26ed6d7a-fa8d-452b-d394-9be224b0b6ae"
      },
      "source": [
        "train_list[:5]"
      ],
      "execution_count": null,
      "outputs": [
        {
          "data": {
            "text/plain": [
              "['###24293578\\n',\n",
              " 'OBJECTIVE\\tTo investigate the efficacy of @ weeks of daily low-dose oral prednisolone in improving pain , mobility , and systemic low-grade inflammation in the short term and whether the effect would be sustained at @ weeks in older adults with moderate to severe knee osteoarthritis ( OA ) .\\n',\n",
              " 'METHODS\\tA total of @ patients with primary knee OA were randomized @:@ ; @ received @ mg/day of prednisolone and @ received placebo for @ weeks .\\n',\n",
              " 'METHODS\\tOutcome measures included pain reduction and improvement in function scores and systemic inflammation markers .\\n',\n",
              " 'METHODS\\tPain was assessed using the visual analog pain scale ( @-@ mm ) .\\n']"
            ]
          },
          "execution_count": 9,
          "metadata": {},
          "output_type": "execute_result"
        }
      ]
    },
    {
      "cell_type": "code",
      "metadata": {
        "colab": {
          "base_uri": "https://localhost:8080/"
        },
        "id": "5RxEx2MjKCjc",
        "outputId": "c42e7ca2-d386-4eab-867b-56662932b366"
      },
      "source": [
        "val_list[:5]"
      ],
      "execution_count": null,
      "outputs": [
        {
          "data": {
            "text/plain": [
              "['###24290286\\n',\n",
              " 'BACKGROUND\\tIgE sensitization to Aspergillus fumigatus and a positive sputum fungal culture result are common in patients with refractory asthma .\\n',\n",
              " 'BACKGROUND\\tIt is not clear whether these patients would benefit from antifungal treatment .\\n',\n",
              " 'OBJECTIVE\\tWe sought to determine whether a @-month course of voriconazole improved asthma-related outcomes in patients with asthma who are IgE sensitized to A fumigatus .\\n',\n",
              " 'METHODS\\tAsthmatic patients who were IgE sensitized to A fumigatus with a history of at least @ severe exacerbations in the previous @ months were treated for @ months with @ mg of voriconazole twice daily , followed by observation for @ months , in a double-blind , placebo-controlled , randomized design .\\n']"
            ]
          },
          "execution_count": 10,
          "metadata": {},
          "output_type": "execute_result"
        }
      ]
    },
    {
      "cell_type": "code",
      "metadata": {
        "colab": {
          "base_uri": "https://localhost:8080/"
        },
        "id": "W8Mz_MSIKKPV",
        "outputId": "4fdc600e-ab15-494f-dbd4-4fe1450ed1a8"
      },
      "source": [
        "test_list[:5]"
      ],
      "execution_count": null,
      "outputs": [
        {
          "data": {
            "text/plain": [
              "['###24845963\\n',\n",
              " 'BACKGROUND\\tThis study analyzed liver function abnormalities in heart failure patients admitted with severe acute decompensated heart failure ( ADHF ) .\\n',\n",
              " 'RESULTS\\tA post hoc analysis was conducted with the use of data from the Evaluation Study of Congestive Heart Failure and Pulmonary Artery Catheterization Effectiveness ( ESCAPE ) .\\n',\n",
              " 'RESULTS\\tLiver function tests ( LFTs ) were measured at @ time points from baseline , at discharge , and up to @ months follow-up .\\n',\n",
              " 'RESULTS\\tSurvival analyses were used to assess the association between admission Model of End-Stage Liver Disease Excluding International Normalized Ratio ( MELD-XI ) scores and patient outcome.There was a high prevalence of abnormal baseline ( admission ) LFTs ( albumin @ % , aspartate transaminase @ % , alanine transaminase @ % , and total bilirubin @ % ) .\\n']"
            ]
          },
          "execution_count": 11,
          "metadata": {},
          "output_type": "execute_result"
        }
      ]
    },
    {
      "cell_type": "markdown",
      "metadata": {
        "id": "sitp2rgDqvcX"
      },
      "source": [
        "Comments: the data is in list form\n",
        "* Beginning: each abstract starts with \"###numerical_id\\n\" format\n",
        "* Ending: an empty new line \"\\n\"\n",
        "* Content: each line ob sentences includes: label + \\t (tab seperated) + sentence"
      ]
    },
    {
      "cell_type": "code",
      "metadata": {
        "colab": {
          "base_uri": "https://localhost:8080/"
        },
        "id": "jKiXVa40147z",
        "outputId": "83e52c80-aeea-449b-a786-80e7016de918"
      },
      "source": [
        "len(train_list), len(val_list), len(test_list)"
      ],
      "execution_count": null,
      "outputs": [
        {
          "data": {
            "text/plain": [
              "(210040, 35212, 35135)"
            ]
          },
          "execution_count": 12,
          "metadata": {},
          "output_type": "execute_result"
        }
      ]
    },
    {
      "cell_type": "markdown",
      "metadata": {
        "id": "ZIIDNE27nr_n"
      },
      "source": [
        "## III. PREPROCESS DATA & EDA"
      ]
    },
    {
      "cell_type": "code",
      "metadata": {
        "id": "HvzXSmZoLQoP"
      },
      "source": [
        "def preprocess_text_with_line_number(filename):\n",
        "    input_lines = get_lines(filename) # get the list of all lines from filename\n",
        "    abstract_lines = '' # create an empty abstract\n",
        "    abstract_dataset = [] # create an empty list of abstracts\n",
        "\n",
        "    for line in input_lines:\n",
        "        if line.startswith('###'): # check whether the line is an ID line\n",
        "            abstract_id = line\n",
        "            abstract_lines = '' # reset the abstract string if the line is an ID line\n",
        "\n",
        "        elif line.isspace(): # check whether the line is a new line \"\\n\"\n",
        "            abstract_line_split = abstract_lines.splitlines() # split abstract into a list of seperate line\n",
        "\n",
        "            # Iterate through each line in a single abstract and count them at the same time\n",
        "            for abstract_line_number, abstract_line in enumerate(abstract_line_split): # loop and create the tuple of each line number and the line content\n",
        "                line_data = {} # create an empty dictionary for each line\n",
        "                label_text_split = abstract_line.split('\\t') # split label from text\n",
        "                line_data['label'] = label_text_split[0] # get label\n",
        "                line_data['text'] = label_text_split[1].lower() # get target text and lower so as to prevent bias between captialized and uncapitalized words\n",
        "                line_data['line_number'] = abstract_line_number # the order that the line appears in the abstract\n",
        "                line_data['total_lines'] = len(abstract_line_split) - 1 # total number of line in an abstract\n",
        "                abstract_dataset.append(line_data) # add line data to abstract samples list\n",
        "\n",
        "        else: # if the above conditions are not satisfiled, the line contains a labelled sentence\n",
        "            abstract_lines += line\n",
        "\n",
        "    return abstract_dataset"
      ],
      "execution_count": null,
      "outputs": []
    },
    {
      "cell_type": "code",
      "metadata": {
        "colab": {
          "base_uri": "https://localhost:8080/"
        },
        "id": "vDakIG2o3coS",
        "outputId": "bdbe1425-9a48-4736-ebb4-a4ccfaad2537"
      },
      "source": [
        "# Get data from file and preprocess\n",
        "# All sets are lists of dictionaries\n",
        "train_dict = preprocess_text_with_line_number('/content/pubmed-rct/PubMed_20k_RCT_numbers_replaced_with_at_sign/train.txt')\n",
        "val_dict = preprocess_text_with_line_number('/content/pubmed-rct/PubMed_20k_RCT_numbers_replaced_with_at_sign/dev.txt')\n",
        "test_dict = preprocess_text_with_line_number('/content/pubmed-rct/PubMed_20k_RCT_numbers_replaced_with_at_sign/test.txt')\n",
        "\n",
        "len(train_dict), len(val_dict), len(test_dict)"
      ],
      "execution_count": null,
      "outputs": [
        {
          "data": {
            "text/plain": [
              "(180040, 30212, 30135)"
            ]
          },
          "execution_count": 14,
          "metadata": {},
          "output_type": "execute_result"
        }
      ]
    },
    {
      "cell_type": "code",
      "metadata": {
        "colab": {
          "base_uri": "https://localhost:8080/"
        },
        "id": "VHfUqHQ39nFs",
        "outputId": "16ad3ced-d3f7-444c-8e6c-f0387e573c63"
      },
      "source": [
        "# Check train dataset\n",
        "train_dict[:1]"
      ],
      "execution_count": null,
      "outputs": [
        {
          "data": {
            "text/plain": [
              "[{'label': 'OBJECTIVE',\n",
              "  'line_number': 0,\n",
              "  'text': 'to investigate the efficacy of @ weeks of daily low-dose oral prednisolone in improving pain , mobility , and systemic low-grade inflammation in the short term and whether the effect would be sustained at @ weeks in older adults with moderate to severe knee osteoarthritis ( oa ) .',\n",
              "  'total_lines': 11}]"
            ]
          },
          "execution_count": 15,
          "metadata": {},
          "output_type": "execute_result"
        }
      ]
    },
    {
      "cell_type": "code",
      "metadata": {
        "colab": {
          "base_uri": "https://localhost:8080/"
        },
        "id": "b0M-ZzWg7AVN",
        "outputId": "e477df02-5d82-4589-9b97-40d7204c0b66"
      },
      "source": [
        "# Check validation dataset\n",
        "val_dict[:1]"
      ],
      "execution_count": null,
      "outputs": [
        {
          "data": {
            "text/plain": [
              "[{'label': 'BACKGROUND',\n",
              "  'line_number': 0,\n",
              "  'text': 'ige sensitization to aspergillus fumigatus and a positive sputum fungal culture result are common in patients with refractory asthma .',\n",
              "  'total_lines': 9}]"
            ]
          },
          "execution_count": 16,
          "metadata": {},
          "output_type": "execute_result"
        }
      ]
    },
    {
      "cell_type": "code",
      "metadata": {
        "colab": {
          "base_uri": "https://localhost:8080/"
        },
        "id": "7eF_Lgu3683c",
        "outputId": "54ad95ef-9c4a-40b9-ec52-e15b3c3a62ef"
      },
      "source": [
        "# Check test dataset\n",
        "test_dict[:1]"
      ],
      "execution_count": null,
      "outputs": [
        {
          "data": {
            "text/plain": [
              "[{'label': 'BACKGROUND',\n",
              "  'line_number': 0,\n",
              "  'text': 'this study analyzed liver function abnormalities in heart failure patients admitted with severe acute decompensated heart failure ( adhf ) .',\n",
              "  'total_lines': 8}]"
            ]
          },
          "execution_count": 17,
          "metadata": {},
          "output_type": "execute_result"
        }
      ]
    },
    {
      "cell_type": "code",
      "metadata": {
        "id": "-ihn301o-uZr"
      },
      "source": [
        "import pandas as pd\n",
        "# Converting list of dictionary data into DataFrame\n",
        "train_df = pd.DataFrame(train_dict)\n",
        "val_df = pd.DataFrame(val_dict)\n",
        "test_df = pd.DataFrame(test_dict)"
      ],
      "execution_count": null,
      "outputs": []
    },
    {
      "cell_type": "markdown",
      "metadata": {
        "id": "VDJxn4VX6wKj"
      },
      "source": [
        "### 1. Training Dataset"
      ]
    },
    {
      "cell_type": "code",
      "metadata": {
        "colab": {
          "base_uri": "https://localhost:8080/",
          "height": 204
        },
        "id": "B2R_EDl3Atd4",
        "outputId": "8db7c8be-6848-4003-9488-f481acd049f6"
      },
      "source": [
        "# Overview the training dataset\n",
        "train_df.head()"
      ],
      "execution_count": null,
      "outputs": [
        {
          "data": {
            "text/html": [
              "<div>\n",
              "<style scoped>\n",
              "    .dataframe tbody tr th:only-of-type {\n",
              "        vertical-align: middle;\n",
              "    }\n",
              "\n",
              "    .dataframe tbody tr th {\n",
              "        vertical-align: top;\n",
              "    }\n",
              "\n",
              "    .dataframe thead th {\n",
              "        text-align: right;\n",
              "    }\n",
              "</style>\n",
              "<table border=\"1\" class=\"dataframe\">\n",
              "  <thead>\n",
              "    <tr style=\"text-align: right;\">\n",
              "      <th></th>\n",
              "      <th>label</th>\n",
              "      <th>text</th>\n",
              "      <th>line_number</th>\n",
              "      <th>total_lines</th>\n",
              "    </tr>\n",
              "  </thead>\n",
              "  <tbody>\n",
              "    <tr>\n",
              "      <th>0</th>\n",
              "      <td>OBJECTIVE</td>\n",
              "      <td>to investigate the efficacy of @ weeks of dail...</td>\n",
              "      <td>0</td>\n",
              "      <td>11</td>\n",
              "    </tr>\n",
              "    <tr>\n",
              "      <th>1</th>\n",
              "      <td>METHODS</td>\n",
              "      <td>a total of @ patients with primary knee oa wer...</td>\n",
              "      <td>1</td>\n",
              "      <td>11</td>\n",
              "    </tr>\n",
              "    <tr>\n",
              "      <th>2</th>\n",
              "      <td>METHODS</td>\n",
              "      <td>outcome measures included pain reduction and i...</td>\n",
              "      <td>2</td>\n",
              "      <td>11</td>\n",
              "    </tr>\n",
              "    <tr>\n",
              "      <th>3</th>\n",
              "      <td>METHODS</td>\n",
              "      <td>pain was assessed using the visual analog pain...</td>\n",
              "      <td>3</td>\n",
              "      <td>11</td>\n",
              "    </tr>\n",
              "    <tr>\n",
              "      <th>4</th>\n",
              "      <td>METHODS</td>\n",
              "      <td>secondary outcome measures included the wester...</td>\n",
              "      <td>4</td>\n",
              "      <td>11</td>\n",
              "    </tr>\n",
              "  </tbody>\n",
              "</table>\n",
              "</div>"
            ],
            "text/plain": [
              "       label  ... total_lines\n",
              "0  OBJECTIVE  ...          11\n",
              "1    METHODS  ...          11\n",
              "2    METHODS  ...          11\n",
              "3    METHODS  ...          11\n",
              "4    METHODS  ...          11\n",
              "\n",
              "[5 rows x 4 columns]"
            ]
          },
          "execution_count": 19,
          "metadata": {},
          "output_type": "execute_result"
        }
      ]
    },
    {
      "cell_type": "code",
      "metadata": {
        "colab": {
          "base_uri": "https://localhost:8080/"
        },
        "id": "bYMcHdvOzwix",
        "outputId": "0e2493dd-5d1e-4b73-d787-27a5247a3382"
      },
      "source": [
        "# 1. Train set information\n",
        "print(f'{train_df.info()}\\n')\n",
        "\n",
        "# 2. Check null values\n",
        "print(f'The training dataset has {train_df.isna().sum().sum()} null value(s).\\n')\n",
        "\n",
        "# 3. Check duplicated value\n",
        "print(f'The training dataset has {train_df.duplicated().sum()} duplicated values.\\n')\n",
        "\n",
        "# 4. Check outliers"
      ],
      "execution_count": null,
      "outputs": [
        {
          "name": "stdout",
          "output_type": "stream",
          "text": [
            "<class 'pandas.core.frame.DataFrame'>\n",
            "RangeIndex: 180040 entries, 0 to 180039\n",
            "Data columns (total 4 columns):\n",
            " #   Column       Non-Null Count   Dtype \n",
            "---  ------       --------------   ----- \n",
            " 0   label        180040 non-null  object\n",
            " 1   text         180040 non-null  object\n",
            " 2   line_number  180040 non-null  int64 \n",
            " 3   total_lines  180040 non-null  int64 \n",
            "dtypes: int64(2), object(2)\n",
            "memory usage: 5.5+ MB\n",
            "None\n",
            "\n",
            "The training dataset has 0 null value(s).\n",
            "\n",
            "The training dataset has 1454 duplicated values.\n",
            "\n"
          ]
        }
      ]
    },
    {
      "cell_type": "code",
      "metadata": {
        "colab": {
          "base_uri": "https://localhost:8080/",
          "height": 419
        },
        "id": "M2nL6BOh0s-R",
        "outputId": "4dd1a38b-2500-498d-ab48-64ccf564461b"
      },
      "source": [
        "# Have a look at the duplicated lines\n",
        "train_df[train_df.duplicated() == True]"
      ],
      "execution_count": null,
      "outputs": [
        {
          "data": {
            "text/html": [
              "<div>\n",
              "<style scoped>\n",
              "    .dataframe tbody tr th:only-of-type {\n",
              "        vertical-align: middle;\n",
              "    }\n",
              "\n",
              "    .dataframe tbody tr th {\n",
              "        vertical-align: top;\n",
              "    }\n",
              "\n",
              "    .dataframe thead th {\n",
              "        text-align: right;\n",
              "    }\n",
              "</style>\n",
              "<table border=\"1\" class=\"dataframe\">\n",
              "  <thead>\n",
              "    <tr style=\"text-align: right;\">\n",
              "      <th></th>\n",
              "      <th>label</th>\n",
              "      <th>text</th>\n",
              "      <th>line_number</th>\n",
              "      <th>total_lines</th>\n",
              "    </tr>\n",
              "  </thead>\n",
              "  <tbody>\n",
              "    <tr>\n",
              "      <th>1552</th>\n",
              "      <td>BACKGROUND</td>\n",
              "      <td>nct@ .</td>\n",
              "      <td>10</td>\n",
              "      <td>10</td>\n",
              "    </tr>\n",
              "    <tr>\n",
              "      <th>3439</th>\n",
              "      <td>BACKGROUND</td>\n",
              "      <td>clinicaltrials.gov identifier : nct@ .</td>\n",
              "      <td>10</td>\n",
              "      <td>10</td>\n",
              "    </tr>\n",
              "    <tr>\n",
              "      <th>4349</th>\n",
              "      <td>BACKGROUND</td>\n",
              "      <td>nct@ .</td>\n",
              "      <td>12</td>\n",
              "      <td>12</td>\n",
              "    </tr>\n",
              "    <tr>\n",
              "      <th>4636</th>\n",
              "      <td>BACKGROUND</td>\n",
              "      <td>nct@ .</td>\n",
              "      <td>12</td>\n",
              "      <td>12</td>\n",
              "    </tr>\n",
              "    <tr>\n",
              "      <th>4933</th>\n",
              "      <td>BACKGROUND</td>\n",
              "      <td>unique identifier : nct@ .</td>\n",
              "      <td>11</td>\n",
              "      <td>11</td>\n",
              "    </tr>\n",
              "    <tr>\n",
              "      <th>...</th>\n",
              "      <td>...</td>\n",
              "      <td>...</td>\n",
              "      <td>...</td>\n",
              "      <td>...</td>\n",
              "    </tr>\n",
              "    <tr>\n",
              "      <th>179743</th>\n",
              "      <td>CONCLUSIONS</td>\n",
              "      <td>this trial was registered at clinicaltrials.go...</td>\n",
              "      <td>10</td>\n",
              "      <td>10</td>\n",
              "    </tr>\n",
              "    <tr>\n",
              "      <th>179830</th>\n",
              "      <td>CONCLUSIONS</td>\n",
              "      <td>this trial was registered at clinicaltrials.go...</td>\n",
              "      <td>14</td>\n",
              "      <td>14</td>\n",
              "    </tr>\n",
              "    <tr>\n",
              "      <th>179859</th>\n",
              "      <td>BACKGROUND</td>\n",
              "      <td>clinicaltrials.gov nct@ .</td>\n",
              "      <td>14</td>\n",
              "      <td>15</td>\n",
              "    </tr>\n",
              "    <tr>\n",
              "      <th>179937</th>\n",
              "      <td>BACKGROUND</td>\n",
              "      <td>clinicaltrials.gov nct@ .</td>\n",
              "      <td>14</td>\n",
              "      <td>14</td>\n",
              "    </tr>\n",
              "    <tr>\n",
              "      <th>180027</th>\n",
              "      <td>CONCLUSIONS</td>\n",
              "      <td>clinicaltrials.gov number : nct@ .</td>\n",
              "      <td>10</td>\n",
              "      <td>10</td>\n",
              "    </tr>\n",
              "  </tbody>\n",
              "</table>\n",
              "<p>1454 rows × 4 columns</p>\n",
              "</div>"
            ],
            "text/plain": [
              "              label  ... total_lines\n",
              "1552     BACKGROUND  ...          10\n",
              "3439     BACKGROUND  ...          10\n",
              "4349     BACKGROUND  ...          12\n",
              "4636     BACKGROUND  ...          12\n",
              "4933     BACKGROUND  ...          11\n",
              "...             ...  ...         ...\n",
              "179743  CONCLUSIONS  ...          10\n",
              "179830  CONCLUSIONS  ...          14\n",
              "179859   BACKGROUND  ...          15\n",
              "179937   BACKGROUND  ...          14\n",
              "180027  CONCLUSIONS  ...          10\n",
              "\n",
              "[1454 rows x 4 columns]"
            ]
          },
          "execution_count": 21,
          "metadata": {},
          "output_type": "execute_result"
        }
      ]
    },
    {
      "cell_type": "markdown",
      "metadata": {
        "id": "oxLBXSWK1sRH"
      },
      "source": [
        "Comments:\n",
        "\n",
        "Theses above lines have "
      ]
    },
    {
      "cell_type": "markdown",
      "metadata": {
        "id": "UWujU21R7SQJ"
      },
      "source": [
        "### 2. Validation Dataset"
      ]
    },
    {
      "cell_type": "code",
      "metadata": {
        "colab": {
          "base_uri": "https://localhost:8080/",
          "height": 204
        },
        "id": "K8YEzln-L5rQ",
        "outputId": "42d94044-3ae0-4e39-c97b-16d3b9188a66"
      },
      "source": [
        "# Overview the validation dataset\n",
        "val_df.head()"
      ],
      "execution_count": null,
      "outputs": [
        {
          "data": {
            "text/html": [
              "<div>\n",
              "<style scoped>\n",
              "    .dataframe tbody tr th:only-of-type {\n",
              "        vertical-align: middle;\n",
              "    }\n",
              "\n",
              "    .dataframe tbody tr th {\n",
              "        vertical-align: top;\n",
              "    }\n",
              "\n",
              "    .dataframe thead th {\n",
              "        text-align: right;\n",
              "    }\n",
              "</style>\n",
              "<table border=\"1\" class=\"dataframe\">\n",
              "  <thead>\n",
              "    <tr style=\"text-align: right;\">\n",
              "      <th></th>\n",
              "      <th>label</th>\n",
              "      <th>text</th>\n",
              "      <th>line_number</th>\n",
              "      <th>total_lines</th>\n",
              "    </tr>\n",
              "  </thead>\n",
              "  <tbody>\n",
              "    <tr>\n",
              "      <th>0</th>\n",
              "      <td>BACKGROUND</td>\n",
              "      <td>ige sensitization to aspergillus fumigatus and...</td>\n",
              "      <td>0</td>\n",
              "      <td>9</td>\n",
              "    </tr>\n",
              "    <tr>\n",
              "      <th>1</th>\n",
              "      <td>BACKGROUND</td>\n",
              "      <td>it is not clear whether these patients would b...</td>\n",
              "      <td>1</td>\n",
              "      <td>9</td>\n",
              "    </tr>\n",
              "    <tr>\n",
              "      <th>2</th>\n",
              "      <td>OBJECTIVE</td>\n",
              "      <td>we sought to determine whether a @-month cours...</td>\n",
              "      <td>2</td>\n",
              "      <td>9</td>\n",
              "    </tr>\n",
              "    <tr>\n",
              "      <th>3</th>\n",
              "      <td>METHODS</td>\n",
              "      <td>asthmatic patients who were ige sensitized to ...</td>\n",
              "      <td>3</td>\n",
              "      <td>9</td>\n",
              "    </tr>\n",
              "    <tr>\n",
              "      <th>4</th>\n",
              "      <td>METHODS</td>\n",
              "      <td>primary outcomes were improvement in quality o...</td>\n",
              "      <td>4</td>\n",
              "      <td>9</td>\n",
              "    </tr>\n",
              "  </tbody>\n",
              "</table>\n",
              "</div>"
            ],
            "text/plain": [
              "        label  ... total_lines\n",
              "0  BACKGROUND  ...           9\n",
              "1  BACKGROUND  ...           9\n",
              "2   OBJECTIVE  ...           9\n",
              "3     METHODS  ...           9\n",
              "4     METHODS  ...           9\n",
              "\n",
              "[5 rows x 4 columns]"
            ]
          },
          "execution_count": 22,
          "metadata": {},
          "output_type": "execute_result"
        }
      ]
    },
    {
      "cell_type": "code",
      "metadata": {
        "colab": {
          "base_uri": "https://localhost:8080/"
        },
        "id": "Q561Bo9M2uDp",
        "outputId": "7ed2ed77-3d45-4b14-f17f-112d232c9531"
      },
      "source": [
        "# 1. Validation set information\n",
        "print(f'{val_df.info()}\\n')\n",
        "\n",
        "# 2. Check null values\n",
        "print(f'The validation dataset has {val_df.isna().sum().sum()} null value(s).\\n')\n",
        "\n",
        "# 3. Check duplicated value\n",
        "print(f'The validation dataset has {val_df.duplicated().sum()} duplicated values.\\n')\n",
        "\n",
        "# 4. Check outliers"
      ],
      "execution_count": null,
      "outputs": [
        {
          "name": "stdout",
          "output_type": "stream",
          "text": [
            "<class 'pandas.core.frame.DataFrame'>\n",
            "RangeIndex: 30212 entries, 0 to 30211\n",
            "Data columns (total 4 columns):\n",
            " #   Column       Non-Null Count  Dtype \n",
            "---  ------       --------------  ----- \n",
            " 0   label        30212 non-null  object\n",
            " 1   text         30212 non-null  object\n",
            " 2   line_number  30212 non-null  int64 \n",
            " 3   total_lines  30212 non-null  int64 \n",
            "dtypes: int64(2), object(2)\n",
            "memory usage: 944.2+ KB\n",
            "None\n",
            "\n",
            "The validation dataset has 0 null value(s).\n",
            "\n",
            "The validation dataset has 128 duplicated values.\n",
            "\n"
          ]
        }
      ]
    },
    {
      "cell_type": "code",
      "metadata": {
        "colab": {
          "base_uri": "https://localhost:8080/",
          "height": 419
        },
        "id": "nL_F4Kg2261H",
        "outputId": "413ff596-ea3d-410e-cece-e5a403f58238"
      },
      "source": [
        "# Have a look at the duplicated lines\n",
        "val_df[val_df.duplicated() == True]"
      ],
      "execution_count": null,
      "outputs": [
        {
          "data": {
            "text/html": [
              "<div>\n",
              "<style scoped>\n",
              "    .dataframe tbody tr th:only-of-type {\n",
              "        vertical-align: middle;\n",
              "    }\n",
              "\n",
              "    .dataframe tbody tr th {\n",
              "        vertical-align: top;\n",
              "    }\n",
              "\n",
              "    .dataframe thead th {\n",
              "        text-align: right;\n",
              "    }\n",
              "</style>\n",
              "<table border=\"1\" class=\"dataframe\">\n",
              "  <thead>\n",
              "    <tr style=\"text-align: right;\">\n",
              "      <th></th>\n",
              "      <th>label</th>\n",
              "      <th>text</th>\n",
              "      <th>line_number</th>\n",
              "      <th>total_lines</th>\n",
              "    </tr>\n",
              "  </thead>\n",
              "  <tbody>\n",
              "    <tr>\n",
              "      <th>2496</th>\n",
              "      <td>BACKGROUND</td>\n",
              "      <td>clinicaltrials.gov identifier : nct@ .</td>\n",
              "      <td>15</td>\n",
              "      <td>15</td>\n",
              "    </tr>\n",
              "    <tr>\n",
              "      <th>4386</th>\n",
              "      <td>BACKGROUND</td>\n",
              "      <td>clinicaltrials.gov identifier : nct@ .</td>\n",
              "      <td>14</td>\n",
              "      <td>14</td>\n",
              "    </tr>\n",
              "    <tr>\n",
              "      <th>4395</th>\n",
              "      <td>BACKGROUND</td>\n",
              "      <td>http://www.clinicaltrials.gov .</td>\n",
              "      <td>8</td>\n",
              "      <td>9</td>\n",
              "    </tr>\n",
              "    <tr>\n",
              "      <th>4396</th>\n",
              "      <td>BACKGROUND</td>\n",
              "      <td>unique identifier : nct@ .</td>\n",
              "      <td>9</td>\n",
              "      <td>9</td>\n",
              "    </tr>\n",
              "    <tr>\n",
              "      <th>4760</th>\n",
              "      <td>BACKGROUND</td>\n",
              "      <td>clinicaltrials.gov identifier : nct@ .</td>\n",
              "      <td>15</td>\n",
              "      <td>15</td>\n",
              "    </tr>\n",
              "    <tr>\n",
              "      <th>...</th>\n",
              "      <td>...</td>\n",
              "      <td>...</td>\n",
              "      <td>...</td>\n",
              "      <td>...</td>\n",
              "    </tr>\n",
              "    <tr>\n",
              "      <th>29581</th>\n",
              "      <td>BACKGROUND</td>\n",
              "      <td>clinicaltrials.gov identifier : nct@ .</td>\n",
              "      <td>16</td>\n",
              "      <td>16</td>\n",
              "    </tr>\n",
              "    <tr>\n",
              "      <th>29841</th>\n",
              "      <td>BACKGROUND</td>\n",
              "      <td>clinicaltrials.gov identifier : nct@ .</td>\n",
              "      <td>12</td>\n",
              "      <td>12</td>\n",
              "    </tr>\n",
              "    <tr>\n",
              "      <th>29993</th>\n",
              "      <td>BACKGROUND</td>\n",
              "      <td>http://www.clinicaltrials.gov .</td>\n",
              "      <td>11</td>\n",
              "      <td>12</td>\n",
              "    </tr>\n",
              "    <tr>\n",
              "      <th>29994</th>\n",
              "      <td>BACKGROUND</td>\n",
              "      <td>unique identifier : nct@ .</td>\n",
              "      <td>12</td>\n",
              "      <td>12</td>\n",
              "    </tr>\n",
              "    <tr>\n",
              "      <th>30134</th>\n",
              "      <td>BACKGROUND</td>\n",
              "      <td>unique identifier : nct@ .</td>\n",
              "      <td>11</td>\n",
              "      <td>11</td>\n",
              "    </tr>\n",
              "  </tbody>\n",
              "</table>\n",
              "<p>128 rows × 4 columns</p>\n",
              "</div>"
            ],
            "text/plain": [
              "            label  ... total_lines\n",
              "2496   BACKGROUND  ...          15\n",
              "4386   BACKGROUND  ...          14\n",
              "4395   BACKGROUND  ...           9\n",
              "4396   BACKGROUND  ...           9\n",
              "4760   BACKGROUND  ...          15\n",
              "...           ...  ...         ...\n",
              "29581  BACKGROUND  ...          16\n",
              "29841  BACKGROUND  ...          12\n",
              "29993  BACKGROUND  ...          12\n",
              "29994  BACKGROUND  ...          12\n",
              "30134  BACKGROUND  ...          11\n",
              "\n",
              "[128 rows x 4 columns]"
            ]
          },
          "execution_count": 24,
          "metadata": {},
          "output_type": "execute_result"
        }
      ]
    },
    {
      "cell_type": "markdown",
      "metadata": {
        "id": "sbfzd-Uj7cAN"
      },
      "source": [
        "### 3. Test Dataset"
      ]
    },
    {
      "cell_type": "code",
      "metadata": {
        "colab": {
          "base_uri": "https://localhost:8080/",
          "height": 204
        },
        "id": "0R_cioezL_rV",
        "outputId": "31d3c54a-4739-4cea-92ef-cfc148816b0a"
      },
      "source": [
        "# Overview the test dataset\n",
        "test_df.head()"
      ],
      "execution_count": null,
      "outputs": [
        {
          "data": {
            "text/html": [
              "<div>\n",
              "<style scoped>\n",
              "    .dataframe tbody tr th:only-of-type {\n",
              "        vertical-align: middle;\n",
              "    }\n",
              "\n",
              "    .dataframe tbody tr th {\n",
              "        vertical-align: top;\n",
              "    }\n",
              "\n",
              "    .dataframe thead th {\n",
              "        text-align: right;\n",
              "    }\n",
              "</style>\n",
              "<table border=\"1\" class=\"dataframe\">\n",
              "  <thead>\n",
              "    <tr style=\"text-align: right;\">\n",
              "      <th></th>\n",
              "      <th>label</th>\n",
              "      <th>text</th>\n",
              "      <th>line_number</th>\n",
              "      <th>total_lines</th>\n",
              "    </tr>\n",
              "  </thead>\n",
              "  <tbody>\n",
              "    <tr>\n",
              "      <th>0</th>\n",
              "      <td>BACKGROUND</td>\n",
              "      <td>this study analyzed liver function abnormaliti...</td>\n",
              "      <td>0</td>\n",
              "      <td>8</td>\n",
              "    </tr>\n",
              "    <tr>\n",
              "      <th>1</th>\n",
              "      <td>RESULTS</td>\n",
              "      <td>a post hoc analysis was conducted with the use...</td>\n",
              "      <td>1</td>\n",
              "      <td>8</td>\n",
              "    </tr>\n",
              "    <tr>\n",
              "      <th>2</th>\n",
              "      <td>RESULTS</td>\n",
              "      <td>liver function tests ( lfts ) were measured at...</td>\n",
              "      <td>2</td>\n",
              "      <td>8</td>\n",
              "    </tr>\n",
              "    <tr>\n",
              "      <th>3</th>\n",
              "      <td>RESULTS</td>\n",
              "      <td>survival analyses were used to assess the asso...</td>\n",
              "      <td>3</td>\n",
              "      <td>8</td>\n",
              "    </tr>\n",
              "    <tr>\n",
              "      <th>4</th>\n",
              "      <td>RESULTS</td>\n",
              "      <td>the percentage of patients with abnormal lfts ...</td>\n",
              "      <td>4</td>\n",
              "      <td>8</td>\n",
              "    </tr>\n",
              "  </tbody>\n",
              "</table>\n",
              "</div>"
            ],
            "text/plain": [
              "        label  ... total_lines\n",
              "0  BACKGROUND  ...           8\n",
              "1     RESULTS  ...           8\n",
              "2     RESULTS  ...           8\n",
              "3     RESULTS  ...           8\n",
              "4     RESULTS  ...           8\n",
              "\n",
              "[5 rows x 4 columns]"
            ]
          },
          "execution_count": 25,
          "metadata": {},
          "output_type": "execute_result"
        }
      ]
    },
    {
      "cell_type": "code",
      "metadata": {
        "colab": {
          "base_uri": "https://localhost:8080/"
        },
        "id": "4YY9Jboo3Fyp",
        "outputId": "70360d33-cf67-428f-8e07-8bd70bee1f5d"
      },
      "source": [
        "# 1. Test set information\n",
        "print(f'{test_df.info()}\\n')\n",
        "\n",
        "# 2. Check null values\n",
        "print(f'The tets dataset has {test_df.isna().sum().sum()} null value(s).\\n')\n",
        "\n",
        "# 3. Check duplicated value\n",
        "print(f'The test dataset has {test_df.duplicated().sum()} duplicated values.\\n')\n",
        "\n",
        "# 4. Check outliers"
      ],
      "execution_count": null,
      "outputs": [
        {
          "name": "stdout",
          "output_type": "stream",
          "text": [
            "<class 'pandas.core.frame.DataFrame'>\n",
            "RangeIndex: 30135 entries, 0 to 30134\n",
            "Data columns (total 4 columns):\n",
            " #   Column       Non-Null Count  Dtype \n",
            "---  ------       --------------  ----- \n",
            " 0   label        30135 non-null  object\n",
            " 1   text         30135 non-null  object\n",
            " 2   line_number  30135 non-null  int64 \n",
            " 3   total_lines  30135 non-null  int64 \n",
            "dtypes: int64(2), object(2)\n",
            "memory usage: 941.8+ KB\n",
            "None\n",
            "\n",
            "The tets dataset has 0 null value(s).\n",
            "\n",
            "The test dataset has 153 duplicated values.\n",
            "\n"
          ]
        }
      ]
    },
    {
      "cell_type": "code",
      "metadata": {
        "colab": {
          "base_uri": "https://localhost:8080/",
          "height": 419
        },
        "id": "N4ubqExK3Fyq",
        "outputId": "a0473afa-6ff4-4c78-fb09-ffa6ea7efa17"
      },
      "source": [
        "# Have a look at the duplicated lines\n",
        "test_df[test_df.duplicated() == True]"
      ],
      "execution_count": null,
      "outputs": [
        {
          "data": {
            "text/html": [
              "<div>\n",
              "<style scoped>\n",
              "    .dataframe tbody tr th:only-of-type {\n",
              "        vertical-align: middle;\n",
              "    }\n",
              "\n",
              "    .dataframe tbody tr th {\n",
              "        vertical-align: top;\n",
              "    }\n",
              "\n",
              "    .dataframe thead th {\n",
              "        text-align: right;\n",
              "    }\n",
              "</style>\n",
              "<table border=\"1\" class=\"dataframe\">\n",
              "  <thead>\n",
              "    <tr style=\"text-align: right;\">\n",
              "      <th></th>\n",
              "      <th>label</th>\n",
              "      <th>text</th>\n",
              "      <th>line_number</th>\n",
              "      <th>total_lines</th>\n",
              "    </tr>\n",
              "  </thead>\n",
              "  <tbody>\n",
              "    <tr>\n",
              "      <th>1230</th>\n",
              "      <td>BACKGROUND</td>\n",
              "      <td>http://www.clinicaltrials.gov .</td>\n",
              "      <td>12</td>\n",
              "      <td>13</td>\n",
              "    </tr>\n",
              "    <tr>\n",
              "      <th>1231</th>\n",
              "      <td>BACKGROUND</td>\n",
              "      <td>unique identifier : nct@ .</td>\n",
              "      <td>13</td>\n",
              "      <td>13</td>\n",
              "    </tr>\n",
              "    <tr>\n",
              "      <th>1672</th>\n",
              "      <td>BACKGROUND</td>\n",
              "      <td>nct@ .</td>\n",
              "      <td>13</td>\n",
              "      <td>13</td>\n",
              "    </tr>\n",
              "    <tr>\n",
              "      <th>1946</th>\n",
              "      <td>METHODS</td>\n",
              "      <td>therapeutic level i. see instructions for auth...</td>\n",
              "      <td>10</td>\n",
              "      <td>10</td>\n",
              "    </tr>\n",
              "    <tr>\n",
              "      <th>2540</th>\n",
              "      <td>BACKGROUND</td>\n",
              "      <td>unique identifier : nct@ .</td>\n",
              "      <td>13</td>\n",
              "      <td>13</td>\n",
              "    </tr>\n",
              "    <tr>\n",
              "      <th>...</th>\n",
              "      <td>...</td>\n",
              "      <td>...</td>\n",
              "      <td>...</td>\n",
              "      <td>...</td>\n",
              "    </tr>\n",
              "    <tr>\n",
              "      <th>29682</th>\n",
              "      <td>BACKGROUND</td>\n",
              "      <td>unique identifier : nct@ .</td>\n",
              "      <td>11</td>\n",
              "      <td>11</td>\n",
              "    </tr>\n",
              "    <tr>\n",
              "      <th>29838</th>\n",
              "      <td>BACKGROUND</td>\n",
              "      <td>unique identifier : nct@ .</td>\n",
              "      <td>13</td>\n",
              "      <td>13</td>\n",
              "    </tr>\n",
              "    <tr>\n",
              "      <th>29972</th>\n",
              "      <td>BACKGROUND</td>\n",
              "      <td>clinicaltrials.gov identifier : nct@ .</td>\n",
              "      <td>17</td>\n",
              "      <td>17</td>\n",
              "    </tr>\n",
              "    <tr>\n",
              "      <th>29984</th>\n",
              "      <td>BACKGROUND</td>\n",
              "      <td>nct@ .</td>\n",
              "      <td>11</td>\n",
              "      <td>11</td>\n",
              "    </tr>\n",
              "    <tr>\n",
              "      <th>30041</th>\n",
              "      <td>BACKGROUND</td>\n",
              "      <td>clinicaltrials.gov identifier : nct@ .</td>\n",
              "      <td>16</td>\n",
              "      <td>16</td>\n",
              "    </tr>\n",
              "  </tbody>\n",
              "</table>\n",
              "<p>153 rows × 4 columns</p>\n",
              "</div>"
            ],
            "text/plain": [
              "            label  ... total_lines\n",
              "1230   BACKGROUND  ...          13\n",
              "1231   BACKGROUND  ...          13\n",
              "1672   BACKGROUND  ...          13\n",
              "1946      METHODS  ...          10\n",
              "2540   BACKGROUND  ...          13\n",
              "...           ...  ...         ...\n",
              "29682  BACKGROUND  ...          11\n",
              "29838  BACKGROUND  ...          13\n",
              "29972  BACKGROUND  ...          17\n",
              "29984  BACKGROUND  ...          11\n",
              "30041  BACKGROUND  ...          16\n",
              "\n",
              "[153 rows x 4 columns]"
            ]
          },
          "execution_count": 27,
          "metadata": {},
          "output_type": "execute_result"
        }
      ]
    },
    {
      "cell_type": "code",
      "metadata": {
        "colab": {
          "base_uri": "https://localhost:8080/"
        },
        "id": "7nvlMZSvAwaI",
        "outputId": "8338a7dd-8b03-40e4-9e6e-0093205be988"
      },
      "source": [
        "# Distribution of labels in training data, validation data, and test data\n",
        "print('Train set:')\n",
        "print(train_df['label'].value_counts(), '\\n')\n",
        "print('Validation set:')\n",
        "print(val_df['label'].value_counts(), '\\n')\n",
        "print('Test set:')\n",
        "print(test_df['label'].value_counts())"
      ],
      "execution_count": null,
      "outputs": [
        {
          "name": "stdout",
          "output_type": "stream",
          "text": [
            "Train set:\n",
            "METHODS        59353\n",
            "RESULTS        57953\n",
            "CONCLUSIONS    27168\n",
            "BACKGROUND     21727\n",
            "OBJECTIVE      13839\n",
            "Name: label, dtype: int64 \n",
            "\n",
            "Validation set:\n",
            "METHODS        9964\n",
            "RESULTS        9841\n",
            "CONCLUSIONS    4582\n",
            "BACKGROUND     3449\n",
            "OBJECTIVE      2376\n",
            "Name: label, dtype: int64 \n",
            "\n",
            "Test set:\n",
            "METHODS        9897\n",
            "RESULTS        9713\n",
            "CONCLUSIONS    4571\n",
            "BACKGROUND     3621\n",
            "OBJECTIVE      2333\n",
            "Name: label, dtype: int64\n"
          ]
        }
      ]
    },
    {
      "cell_type": "code",
      "metadata": {
        "colab": {
          "base_uri": "https://localhost:8080/",
          "height": 197
        },
        "id": "LSrNecxGPvJ9",
        "outputId": "07974128-05f2-43b1-8483-980f640a543a"
      },
      "source": [
        "# Check and compare the distribution of the abstract labels\n",
        "import matplotlib.pyplot as plt\n",
        "plt.style.use('dark_background')\n",
        "plt.figure(figsize=(30,5))\n",
        "plt.suptitle('DISTRIBUTION OF ABSTRACT LABELS')\n",
        "\n",
        "plt.subplot(131)\n",
        "train_df['label'].value_counts().plot(kind='barh')\n",
        "plt.title('Train Dataset')\n",
        "for index, value in enumerate(train_df['label'].value_counts()):\n",
        "    plt.text(x=value+1000, y=index, s=value, fontsize='medium', ma='center')\n",
        "\n",
        "plt.subplot(132)\n",
        "val_df['label'].value_counts().plot(kind='barh')\n",
        "plt.title('Validation Dataset')\n",
        "for index, value in enumerate(val_df['label'].value_counts()):\n",
        "    plt.text(x=value+100, y=index, s=value, fontsize='medium', ma='center')\n",
        "\n",
        "plt.subplot(133)\n",
        "test_df['label'].value_counts().plot(kind='barh')\n",
        "plt.title('Test Dataset')\n",
        "for index, value in enumerate(test_df['label'].value_counts()):\n",
        "    plt.text(x=value+100, y=index, s=value, fontsize='medium', ma='center')\n",
        "\n",
        "plt.show()"
      ],
      "execution_count": null,
      "outputs": [
        {
          "data": {
            "image/png": "[encoded data removed]",
            "text/plain": [
              "<Figure size 2160x360 with 3 Axes>"
            ]
          },
          "metadata": {},
          "output_type": "display_data"
        }
      ]
    },
    {
      "cell_type": "markdown",
      "metadata": {
        "id": "9uyj3xkrC6Qo"
      },
      "source": [
        "Comments:\n",
        "\n",
        "* In all Training, Validation, and Test sets, there is an imbalance between **RESULTS**, **METHODS** and **CONCLUSIONS**, **BACKGROUND**, **OBJECTIVES**. However, it is considered to be acceptable because depending on the purpose of each section in the research papers, the many or fewer times they occur in the abstract are flexible.\n",
        "\n",
        "* For instance, the paper is motivative targeted to answer only one question or solve the only big problem but multiple diverse methods and techniques are required to handle.\n",
        "\n",
        "-> Therefore, we have to pay more attention to deal with this kind of inequality dataset."
      ]
    },
    {
      "cell_type": "code",
      "metadata": {
        "colab": {
          "base_uri": "https://localhost:8080/",
          "height": 300
        },
        "id": "Of0vyz6KCcEP",
        "outputId": "ecbc6b92-34e3-4108-9e7e-55d93dedf143"
      },
      "source": [
        "# Check the distribution of the length of the abstracts\n",
        "plt.figure(figsize=(20,5))\n",
        "plt.suptitle('NUMBER OF SENTENCES PER ABSTRACT')\n",
        "\n",
        "plt.subplot(131)\n",
        "sns.histplot(train_df['total_lines'], bins=25)\n",
        "plt.title('Train Dataset')\n",
        "\n",
        "plt.subplot(132)\n",
        "sns.histplot(val_df['total_lines'], bins=25)\n",
        "plt.title('Validation Dataset')\n",
        "\n",
        "plt.subplot(133)\n",
        "sns.histplot(test_df['total_lines'], bins=25)\n",
        "plt.title('Test Dataset')\n",
        "\n",
        "plt.show()"
      ],
      "execution_count": null,
      "outputs": [
        {
          "data": {
            "image/png": "[encoded data removed]",
            "text/plain": [
              "<Figure size 1440x360 with 3 Axes>"
            ]
          },
          "metadata": {},
          "output_type": "display_data"
        }
      ]
    },
    {
      "cell_type": "markdown",
      "metadata": {
        "id": "XeV5QTUrG4aJ"
      },
      "source": [
        "Comments:\n",
        "* Most of the abstracts have the length between 7 to 17 sentences.\n",
        "* On the other hand, the minority is from 2 to 6 and from 16 to 35 sentences.\n",
        "* Validation and Test Dataset have the most similar sentence length distribution"
      ]
    },
    {
      "cell_type": "code",
      "metadata": {
        "colab": {
          "base_uri": "https://localhost:8080/"
        },
        "id": "Co1Po1wLG3Xd",
        "outputId": "c8458cae-8e04-4b8d-c945-f4102625c52c"
      },
      "source": [
        "# Get lists of sentences only for all train, val, and test datasets\n",
        "train_text_list = list(train_df['text'])\n",
        "val_text_list = list(val_df['text'])\n",
        "test_text_list = list(test_df['text'])\n",
        "\n",
        "len(train_text_list), len(val_text_list), len(test_text_list)"
      ],
      "execution_count": null,
      "outputs": [
        {
          "data": {
            "text/plain": [
              "(180040, 30212, 30135)"
            ]
          },
          "execution_count": 31,
          "metadata": {},
          "output_type": "execute_result"
        }
      ]
    },
    {
      "cell_type": "code",
      "metadata": {
        "colab": {
          "base_uri": "https://localhost:8080/"
        },
        "id": "GpjjfDk8IbD0",
        "outputId": "c47087f6-1f50-442e-916b-8da17e3cadb1"
      },
      "source": [
        "train_text_list[:5]"
      ],
      "execution_count": null,
      "outputs": [
        {
          "data": {
            "text/plain": [
              "['to investigate the efficacy of @ weeks of daily low-dose oral prednisolone in improving pain , mobility , and systemic low-grade inflammation in the short term and whether the effect would be sustained at @ weeks in older adults with moderate to severe knee osteoarthritis ( oa ) .',\n",
              " 'a total of @ patients with primary knee oa were randomized @:@ ; @ received @ mg/day of prednisolone and @ received placebo for @ weeks .',\n",
              " 'outcome measures included pain reduction and improvement in function scores and systemic inflammation markers .',\n",
              " 'pain was assessed using the visual analog pain scale ( @-@ mm ) .',\n",
              " 'secondary outcome measures included the western ontario and mcmaster universities osteoarthritis index scores , patient global assessment ( pga ) of the severity of knee oa , and @-min walk distance ( @mwd ) .']"
            ]
          },
          "execution_count": 32,
          "metadata": {},
          "output_type": "execute_result"
        }
      ]
    },
    {
      "cell_type": "code",
      "metadata": {
        "colab": {
          "base_uri": "https://localhost:8080/"
        },
        "id": "px1O_XNoMob-",
        "outputId": "492590b4-5484-400d-dec3-6e8fee423d29"
      },
      "source": [
        "val_text_list[:5]"
      ],
      "execution_count": null,
      "outputs": [
        {
          "data": {
            "text/plain": [
              "['ige sensitization to aspergillus fumigatus and a positive sputum fungal culture result are common in patients with refractory asthma .',\n",
              " 'it is not clear whether these patients would benefit from antifungal treatment .',\n",
              " 'we sought to determine whether a @-month course of voriconazole improved asthma-related outcomes in patients with asthma who are ige sensitized to a fumigatus .',\n",
              " 'asthmatic patients who were ige sensitized to a fumigatus with a history of at least @ severe exacerbations in the previous @ months were treated for @ months with @ mg of voriconazole twice daily , followed by observation for @ months , in a double-blind , placebo-controlled , randomized design .',\n",
              " 'primary outcomes were improvement in quality of life at the end of the treatment period and a reduction in the number of severe exacerbations over the @ months of the study .']"
            ]
          },
          "execution_count": 33,
          "metadata": {},
          "output_type": "execute_result"
        }
      ]
    },
    {
      "cell_type": "code",
      "metadata": {
        "colab": {
          "base_uri": "https://localhost:8080/"
        },
        "id": "Uza0CrouMwa_",
        "outputId": "cf7e153a-43b3-4d84-a08b-28bb654500b9"
      },
      "source": [
        "test_text_list[:5]"
      ],
      "execution_count": null,
      "outputs": [
        {
          "data": {
            "text/plain": [
              "['this study analyzed liver function abnormalities in heart failure patients admitted with severe acute decompensated heart failure ( adhf ) .',\n",
              " 'a post hoc analysis was conducted with the use of data from the evaluation study of congestive heart failure and pulmonary artery catheterization effectiveness ( escape ) .',\n",
              " 'liver function tests ( lfts ) were measured at @ time points from baseline , at discharge , and up to @ months follow-up .',\n",
              " 'survival analyses were used to assess the association between admission model of end-stage liver disease excluding international normalized ratio ( meld-xi ) scores and patient outcome.there was a high prevalence of abnormal baseline ( admission ) lfts ( albumin @ % , aspartate transaminase @ % , alanine transaminase @ % , and total bilirubin @ % ) .',\n",
              " \"the percentage of patients with abnormal lfts decreased significantly from baseline to @-months ' follow-up .\"]"
            ]
          },
          "execution_count": 34,
          "metadata": {},
          "output_type": "execute_result"
        }
      ]
    },
    {
      "cell_type": "code",
      "metadata": {
        "id": "SIbmIJZu-r97"
      },
      "source": [
        ""
      ],
      "execution_count": null,
      "outputs": []
    },
    {
      "cell_type": "code",
      "metadata": {
        "id": "flW7UTpphRa5"
      },
      "source": [
        "# # Get the class of labels from LabelEncoder\n",
        "# number_of_classes = len(label_encoder.classes_)\n",
        "# name_of_label_class = label_encoder.classes_\n",
        "# print('Number of classes:', number_of_classes, '\\n', name_of_label_class)"
      ],
      "execution_count": null,
      "outputs": []
    },
    {
      "cell_type": "code",
      "metadata": {
        "id": "VLaHFQnZ_QYW"
      },
      "source": [
        ""
      ],
      "execution_count": null,
      "outputs": []
    },
    {
      "cell_type": "code",
      "metadata": {
        "id": "GDUc0Rsw_QKv"
      },
      "source": [
        ""
      ],
      "execution_count": null,
      "outputs": []
    },
    {
      "cell_type": "code",
      "metadata": {
        "colab": {
          "base_uri": "https://localhost:8080/"
        },
        "id": "osyg1U6QKjHu",
        "outputId": "1964e384-e139-4fad-b843-6716bd8679c0"
      },
      "source": [
        "# Create a list of sentence length\n",
        "sentence_length = [len(sentence.split()) for sentence in train_text_list]\n",
        "\n",
        "# Check the length of the longest sentence\n",
        "print('The longest sentence has:', max(sentence_length), 'words.')\n",
        "\n",
        "# Check the length of the shortest sentence\n",
        "print('The shortest sentence has:', min(sentence_length), 'words.')"
      ],
      "execution_count": null,
      "outputs": [
        {
          "name": "stdout",
          "output_type": "stream",
          "text": [
            "The longest sentence has: 296 words.\n",
            "The shortest sentence has: 1 words.\n"
          ]
        }
      ]
    },
    {
      "cell_type": "code",
      "metadata": {
        "colab": {
          "base_uri": "https://localhost:8080/"
        },
        "id": "fT0VKytUzluI",
        "outputId": "9e834c64-b4d2-4d8a-d55e-ec7ce861e81c"
      },
      "source": [
        "# Check the average spread of sentence length so as to find out the most general shape (length) for our data set\n",
        "average_sentence_length = round(np.mean(sentence_length))\n",
        "print('The average length of a sentence is:', average_sentence_length, 'words.')"
      ],
      "execution_count": null,
      "outputs": [
        {
          "name": "stdout",
          "output_type": "stream",
          "text": [
            "The average length of a sentence is: 26 words.\n"
          ]
        }
      ]
    },
    {
      "cell_type": "code",
      "metadata": {
        "colab": {
          "base_uri": "https://localhost:8080/"
        },
        "id": "rVnQNE4-k6_W",
        "outputId": "a56dc025-1d24-4ff0-807a-b18298c2ef70"
      },
      "source": [
        "# Check for the majority with quantile range is 95%\n",
        "major_sentence_length = int(np.percentile(sentence_length, 95))\n",
        "print('95% of the total sentences has:', major_sentence_length, 'words.')"
      ],
      "execution_count": null,
      "outputs": [
        {
          "name": "stdout",
          "output_type": "stream",
          "text": [
            "95% of the total sentences has: 55 words.\n"
          ]
        }
      ]
    },
    {
      "cell_type": "code",
      "metadata": {
        "colab": {
          "base_uri": "https://localhost:8080/",
          "height": 353
        },
        "id": "egY537upMZTW",
        "outputId": "40e8e18c-7c20-445f-fd77-8ce6da11a8b6"
      },
      "source": [
        "# Visualize the distribution of sentence_length\n",
        "import seaborn as sns\n",
        "plt.figure(figsize=(10,5))\n",
        "plt.title('DISTRIBUTION OF SENTENCE LENGTH')\n",
        "sns.histplot(data=sentence_length, bins=25)"
      ],
      "execution_count": null,
      "outputs": [
        {
          "data": {
            "text/plain": [
              "<matplotlib.axes._subplots.AxesSubplot at 0x7fb794bb5ad0>"
            ]
          },
          "execution_count": 39,
          "metadata": {},
          "output_type": "execute_result"
        },
        {
          "data": {
            "image/png": "[encoded data removed]",
            "text/plain": [
              "<Figure size 720x360 with 1 Axes>"
            ]
          },
          "metadata": {},
          "output_type": "display_data"
        }
      ]
    },
    {
      "cell_type": "markdown",
      "metadata": {
        "id": "zbpcmwKA0Q9u"
      },
      "source": [
        "Comments:\n",
        "* The vast majority of length per sentence is under 55 words (tokens).\n",
        "* The average length of a sentence in an abstract is 26 words (tokens).\n",
        "* The longest sentence has: 296 words.\n",
        "* The shortest sentence has: 1 words ~ no empty sentences."
      ]
    },
    {
      "cell_type": "code",
      "metadata": {
        "colab": {
          "base_uri": "https://localhost:8080/"
        },
        "id": "_IrO0qdepWo_",
        "outputId": "4eef98d2-750b-43ac-d4f0-f30f586cd9f9"
      },
      "source": [
        "print('Original training dataset:' , len(train_text_list), 'sentences')\n",
        "print('95% of majority sentence length:', round(len(train_text_list)*0.95), 'sentences')\n",
        "print('5% of minority sentence length:', round(len(train_text_list)*0.05), 'sentences')"
      ],
      "execution_count": null,
      "outputs": [
        {
          "name": "stdout",
          "output_type": "stream",
          "text": [
            "Original training dataset: 180040 sentences\n",
            "95% of majority sentence length: 171038 sentences\n",
            "5% of minority sentence length: 9002 sentences\n"
          ]
        }
      ]
    },
    {
      "cell_type": "markdown",
      "metadata": {
        "id": "l_pKNuxqLwy9"
      },
      "source": [
        "Comments:\n",
        "\n",
        "In general, 95% of the sentence length is under 54 words (tokens).\n",
        "\n",
        "-> Therefore, 55 is chosen to be the maximum length threshold for text data vectorization output.\n",
        "\n",
        "~ It would be an acceptable amount of 5% missing of the minor length (~ 9002 words)."
      ]
    },
    {
      "cell_type": "code",
      "metadata": {
        "id": "4V5DXm7Ftxrr"
      },
      "source": [
        "# Create a character-level tokenizer\n",
        "# Create a function to split sentences into characters\n",
        "def split_characters(text):\n",
        "    text_split_list = ' '.join(list(text))\n",
        "    return text_split_list"
      ],
      "execution_count": null,
      "outputs": []
    },
    {
      "cell_type": "code",
      "metadata": {
        "colab": {
          "base_uri": "https://localhost:8080/"
        },
        "id": "vS0raMb7tNqR",
        "outputId": "8b4ee72d-b8bf-4946-fa7c-2eb9176efc3a"
      },
      "source": [
        "# Apply split_character function to train dataset\n",
        "train_character_list = [split_characters(sentence) for sentence in train_text_list]\n",
        "val_character_list = [split_characters(sentence) for sentence in val_text_list]\n",
        "test_character_list = [split_characters(sentence) for sentence in test_text_list]\n",
        "\n",
        "train_character_list[:5]"
      ],
      "execution_count": null,
      "outputs": [
        {
          "data": {
            "text/plain": [
              "['t o   i n v e s t i g a t e   t h e   e f f i c a c y   o f   @   w e e k s   o f   d a i l y   l o w - d o s e   o r a l   p r e d n i s o l o n e   i n   i m p r o v i n g   p a i n   ,   m o b i l i t y   ,   a n d   s y s t e m i c   l o w - g r a d e   i n f l a m m a t i o n   i n   t h e   s h o r t   t e r m   a n d   w h e t h e r   t h e   e f f e c t   w o u l d   b e   s u s t a i n e d   a t   @   w e e k s   i n   o l d e r   a d u l t s   w i t h   m o d e r a t e   t o   s e v e r e   k n e e   o s t e o a r t h r i t i s   (   o a   )   .',\n",
              " 'a   t o t a l   o f   @   p a t i e n t s   w i t h   p r i m a r y   k n e e   o a   w e r e   r a n d o m i z e d   @ : @   ;   @   r e c e i v e d   @   m g / d a y   o f   p r e d n i s o l o n e   a n d   @   r e c e i v e d   p l a c e b o   f o r   @   w e e k s   .',\n",
              " 'o u t c o m e   m e a s u r e s   i n c l u d e d   p a i n   r e d u c t i o n   a n d   i m p r o v e m e n t   i n   f u n c t i o n   s c o r e s   a n d   s y s t e m i c   i n f l a m m a t i o n   m a r k e r s   .',\n",
              " 'p a i n   w a s   a s s e s s e d   u s i n g   t h e   v i s u a l   a n a l o g   p a i n   s c a l e   (   @ - @   m m   )   .',\n",
              " 's e c o n d a r y   o u t c o m e   m e a s u r e s   i n c l u d e d   t h e   w e s t e r n   o n t a r i o   a n d   m c m a s t e r   u n i v e r s i t i e s   o s t e o a r t h r i t i s   i n d e x   s c o r e s   ,   p a t i e n t   g l o b a l   a s s e s s m e n t   (   p g a   )   o f   t h e   s e v e r i t y   o f   k n e e   o a   ,   a n d   @ - m i n   w a l k   d i s t a n c e   (   @ m w d   )   .']"
            ]
          },
          "execution_count": 42,
          "metadata": {},
          "output_type": "execute_result"
        }
      ]
    },
    {
      "cell_type": "code",
      "metadata": {
        "colab": {
          "base_uri": "https://localhost:8080/"
        },
        "id": "YNn4-omYv6XK",
        "outputId": "ec4e5323-6e78-4f43-b1c9-032564d49ca0"
      },
      "source": [
        "# Check the character length of each sentence\n",
        "character_length = [len(sentence) for sentence in train_text_list]\n",
        "average_character_length = np.mean(character_length)\n",
        "average_character_length"
      ],
      "execution_count": null,
      "outputs": [
        {
          "data": {
            "text/plain": [
              "149.3662574983337"
            ]
          },
          "execution_count": 43,
          "metadata": {},
          "output_type": "execute_result"
        }
      ]
    },
    {
      "cell_type": "code",
      "metadata": {
        "colab": {
          "base_uri": "https://localhost:8080/"
        },
        "id": "O69Fnr3V7Eak",
        "outputId": "0a82f6d2-390e-4585-d083-e0e0a751b8f7"
      },
      "source": [
        "# Check for the majority with quantile range is 95%\n",
        "major_character_length = int(np.percentile(character_length, 95))\n",
        "print('95% of the total sentences has:', major_character_length, 'characters')"
      ],
      "execution_count": null,
      "outputs": [
        {
          "name": "stdout",
          "output_type": "stream",
          "text": [
            "95% of the total sentences has: 290 characters\n"
          ]
        }
      ]
    },
    {
      "cell_type": "code",
      "metadata": {
        "colab": {
          "base_uri": "https://localhost:8080/",
          "height": 353
        },
        "id": "vdRIDROl7Eak",
        "outputId": "e19b397d-2427-4717-c785-19e3c9864db7"
      },
      "source": [
        "# Visualize the distribution of character_length\n",
        "import seaborn as sns\n",
        "plt.figure(figsize=(10,5))\n",
        "plt.title('DISTRIBUTION OF CHARACTER LENGTH')\n",
        "sns.histplot(data=character_length, bins=25)"
      ],
      "execution_count": null,
      "outputs": [
        {
          "data": {
            "text/plain": [
              "<matplotlib.axes._subplots.AxesSubplot at 0x7fb78826d390>"
            ]
          },
          "execution_count": 45,
          "metadata": {},
          "output_type": "execute_result"
        },
        {
          "data": {
            "image/png": "[encoded data removed]",
            "text/plain": [
              "<Figure size 720x360 with 1 Axes>"
            ]
          },
          "metadata": {},
          "output_type": "display_data"
        }
      ]
    },
    {
      "cell_type": "code",
      "metadata": {
        "colab": {
          "base_uri": "https://localhost:8080/",
          "height": 282
        },
        "id": "nBYgkHibz8SC",
        "outputId": "b4710c91-b823-472c-c51a-89c98568f042"
      },
      "source": [
        "# Check the distribution of sequences at a character-level\n",
        "import matplotlib.pyplot as plt\n",
        "import seaborn as sns\n",
        "\n",
        "sns.histplot(character_length, bins=15)"
      ],
      "execution_count": null,
      "outputs": [
        {
          "data": {
            "text/plain": [
              "<matplotlib.axes._subplots.AxesSubplot at 0x7fb78826d1d0>"
            ]
          },
          "execution_count": 46,
          "metadata": {},
          "output_type": "execute_result"
        },
        {
          "data": {
            "image/png": "[encoded data removed]",
            "text/plain": [
              "<Figure size 432x288 with 1 Axes>"
            ]
          },
          "metadata": {},
          "output_type": "display_data"
        }
      ]
    },
    {
      "cell_type": "code",
      "metadata": {
        "id": "1r8jTqYdCPMu"
      },
      "source": [
        ""
      ],
      "execution_count": null,
      "outputs": []
    },
    {
      "cell_type": "code",
      "metadata": {
        "id": "EfvXuUpICO0b"
      },
      "source": [
        ""
      ],
      "execution_count": null,
      "outputs": []
    },
    {
      "cell_type": "markdown",
      "metadata": {
        "id": "XgwpKyJKg5LR"
      },
      "source": [
        "### Positional Embeddings\n",
        "* Line numbers\n",
        "* Total Lines"
      ]
    },
    {
      "cell_type": "code",
      "metadata": {
        "colab": {
          "base_uri": "https://localhost:8080/",
          "height": 338
        },
        "id": "k1dfxu-Psq0W",
        "outputId": "77f59021-6d5b-42d2-ae40-bc898fb62685"
      },
      "source": [
        "# Check all available line numbers in the training dataset and their distribution\n",
        "plt.figure(figsize=(20,5))\n",
        "sns.countplot(train_df['line_number'])\n",
        "plt.title(label='DISTRIBUTION OF SENTENCE ORDER IN ABSTRACT DATASET')\n",
        "for index, value in enumerate(train_df['line_number'].value_counts()):\n",
        "    plt.text(x=index, y=value+150, s=value, fontsize='medium', ha='center')"
      ],
      "execution_count": null,
      "outputs": [
        {
          "name": "stderr",
          "output_type": "stream",
          "text": [
            "/usr/local/lib/python3.7/dist-packages/seaborn/_decorators.py:43: FutureWarning: Pass the following variable as a keyword arg: x. From version 0.12, the only valid positional argument will be `data`, and passing other arguments without an explicit keyword will result in an error or misinterpretation.\n",
            "  FutureWarning\n"
          ]
        },
        {
          "data": {
            "image/png": "[encoded data removed]",
            "text/plain": [
              "<Figure size 1440x360 with 1 Axes>"
            ]
          },
          "metadata": {},
          "output_type": "display_data"
        }
      ]
    },
    {
      "cell_type": "code",
      "metadata": {
        "colab": {
          "base_uri": "https://localhost:8080/"
        },
        "id": "3q68SPkJ23F-",
        "outputId": "c02b7519-8cb2-4e13-c9be-2e058b24ad68"
      },
      "source": [
        "total_line_number = train_df['line_number'].count()\n",
        "minor_line_number = train_df['line_number'][train_df['line_number'] > 15].count()\n",
        "minor_line_percentage = round(minor_line_number/total_line_number*100, 2)\n",
        "print(f'The total number of lines for minor line number is {minor_line_number} occupying nearly {minor_line_percentage} percent.')"
      ],
      "execution_count": null,
      "outputs": [
        {
          "name": "stdout",
          "output_type": "stream",
          "text": [
            "The total number of lines for minor line number is 3101 occupying nearly 1.72 percent.\n"
          ]
        }
      ]
    },
    {
      "cell_type": "markdown",
      "metadata": {
        "id": "fLdu1TN51iRb"
      },
      "source": [
        "Comments:\n",
        "\n",
        "The lines number from 0 to 15 take the vast majority of the whole training dataset (~98%)\n",
        "\n",
        "-> Dropping the minority lines number above 15 lines ~ 3101 lines (~1.72%) is acceptable."
      ]
    },
    {
      "cell_type": "code",
      "metadata": {
        "colab": {
          "base_uri": "https://localhost:8080/",
          "height": 355
        },
        "id": "fSpoM8lFEmLI",
        "outputId": "6f00d019-c94d-4bd9-adce-7f2ba65ce25c"
      },
      "source": [
        "# Check all available total line numbers in the training dataset and their distribution\n",
        "plt.figure(figsize=(20,5))\n",
        "sns.countplot(train_df['total_lines'])\n",
        "plt.title(label='DISTRIBUTION OF TOTAL LINES IN ABSTRACT DATASET')"
      ],
      "execution_count": null,
      "outputs": [
        {
          "name": "stderr",
          "output_type": "stream",
          "text": [
            "/usr/local/lib/python3.7/dist-packages/seaborn/_decorators.py:43: FutureWarning: Pass the following variable as a keyword arg: x. From version 0.12, the only valid positional argument will be `data`, and passing other arguments without an explicit keyword will result in an error or misinterpretation.\n",
            "  FutureWarning\n"
          ]
        },
        {
          "data": {
            "text/plain": [
              "Text(0.5, 1.0, 'DISTRIBUTION OF TOTAL LINES IN ABSTRACT DATASET')"
            ]
          },
          "execution_count": 49,
          "metadata": {},
          "output_type": "execute_result"
        },
        {
          "data": {
            "image/png": "[encoded data removed]",
            "text/plain": [
              "<Figure size 1440x360 with 1 Axes>"
            ]
          },
          "metadata": {},
          "output_type": "display_data"
        }
      ]
    },
    {
      "cell_type": "code",
      "metadata": {
        "colab": {
          "background_save": true,
          "base_uri": "https://localhost:8080/"
        },
        "id": "QFiehneZM905",
        "outputId": "0fb31ba1-c809-4f42-885e-d3fce0ea2337"
      },
      "source": [
        "train_df['total_lines'].describe()"
      ],
      "execution_count": null,
      "outputs": [
        {
          "data": {
            "text/plain": [
              "count    180040.000000\n",
              "mean         11.789136\n",
              "std           3.236095\n",
              "min           3.000000\n",
              "25%          10.000000\n",
              "50%          11.000000\n",
              "75%          14.000000\n",
              "max          30.000000\n",
              "Name: total_lines, dtype: float64"
            ]
          },
          "execution_count": null,
          "metadata": {},
          "output_type": "execute_result"
        }
      ]
    },
    {
      "cell_type": "code",
      "metadata": {
        "colab": {
          "background_save": true,
          "base_uri": "https://localhost:8080/"
        },
        "id": "E5AmoSFINtBJ",
        "outputId": "b9cf0093-c920-47c2-de6f-6a11236c6e59"
      },
      "source": [
        "number_of_total_lines = train_df['total_lines'].count()\n",
        "minor_number_of_total_lines = train_df['total_lines'][train_df['total_lines'] > 20].count()\n",
        "minor_number_of_total_lines_percentage = round(minor_number_of_total_lines/number_of_total_lines*100, 2)\n",
        "print(f'The total number for total minor line number is {minor_number_of_total_lines} occupying nearly {minor_number_of_total_lines_percentage} percent.')"
      ],
      "execution_count": null,
      "outputs": [
        {
          "name": "stdout",
          "output_type": "stream",
          "text": [
            "The total number for total minor line number is 2373 occupying nearly 1.32 percent.\n"
          ]
        }
      ]
    },
    {
      "cell_type": "markdown",
      "metadata": {
        "id": "cdft12E7M0Kf"
      },
      "source": [
        "Comments:\n",
        "\n",
        "The lines number from 0 to 20 take the vast majority of the whole training dataset (~98%)\n",
        "\n",
        "-> Dropping the minority lines number above 20 total lines ~ 2373 lines (~1.32%) is acceptable."
      ]
    },
    {
      "cell_type": "markdown",
      "metadata": {
        "id": "MS0-W3GutJdU"
      },
      "source": [
        "#### SAVE DATASET FOR MODEL TRAINING"
      ]
    },
    {
      "cell_type": "code",
      "metadata": {
        "colab": {
          "background_save": true
        },
        "id": "6_GkZ-smsg4i"
      },
      "source": [
        "# Save the dataframe as pickle file\n",
        "train_df.to_pickle('/content/gdrive/MyDrive/abstract_section_classification/data/train_dataset.pkl')\n",
        "val_df.to_pickle('/content/gdrive/MyDrive/abstract_section_classification/data/val_dataset.pkl')\n",
        "test_df.to_pickle('/content/gdrive/MyDrive/abstract_section_classification/data/test_dataset.pkl')"
      ],
      "execution_count": null,
      "outputs": []
    },
    {
      "cell_type": "markdown",
      "metadata": {
        "id": "FhIyNphGtFAY"
      },
      "source": [
        "### DISCOVER MORE:\n",
        "\n",
        "1. Training, Validation, and Testing data preparation: https://colab.research.google.com/drive/1rN-BfkA5Vc5nMToka_Pyr1q1DtxlXxki#scrollTo=FhIyNphGtFAY\n",
        "\n",
        "2. Model creation and training: https://colab.research.google.com/drive/1ZrEdJBmeU0FDtNN5F_s0eU6yqvAEIPMt#scrollTo=d0etEZ_Mpqw1&uniqifier=1\n",
        "\n",
        "3. Demo data preprocessing and model prediction\n",
        "https://colab.research.google.com/drive/1l3fQn91sOx7KbsLBiIPls_Aaw9CvAkFY#scrollTo=vS0raMb7tNqR"
      ]
    }
  ]
}